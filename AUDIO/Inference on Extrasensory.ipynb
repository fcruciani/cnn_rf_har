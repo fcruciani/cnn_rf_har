{
 "cells": [
  {
   "cell_type": "markdown",
   "metadata": {},
   "source": [
    "# Libraries"
   ]
  },
  {
   "cell_type": "code",
   "execution_count": 318,
   "metadata": {},
   "outputs": [],
   "source": [
    "import os\n",
    "import pandas as pd\n",
    "from tqdm.notebook import tqdm\n",
    "import shutil\n",
    "import librosa\n",
    "import numpy as np\n",
    "import librosa.display\n",
    "import matplotlib.pyplot as plt\n",
    "from sklearn.preprocessing import LabelEncoder\n",
    "from sklearn.preprocessing import StandardScaler\n",
    "import keras\n",
    "from keras.models import Model\n",
    "from keras.models import Sequential\n",
    "from keras.layers import Dense, Dropout, Flatten, Conv1D, MaxPooling1D, Conv2D, MaxPooling2D\n",
    "import time\n",
    "from keras.utils import np_utils\n",
    "from keras import backend as K\n",
    "from sklearn.manifold import TSNE\n",
    "from keras.models import load_model\n",
    "from keras.callbacks import ModelCheckpoint, EarlyStopping\n",
    "from sklearn.metrics import accuracy_score, f1_score, precision_score, recall_score, classification_report, confusion_matrix\n",
    "import seaborn as sns\n",
    "from sklearn.decomposition import PCA\n",
    "import gzip\n",
    "from io import StringIO\n",
    "import glob\n",
    "from sklearn.model_selection import train_test_split"
   ]
  },
  {
   "cell_type": "code",
   "execution_count": 2,
   "metadata": {},
   "outputs": [],
   "source": [
    "train_mfcc_features = np.load('train_mfccs_DCASE_2017.npy')\n",
    "validation_mfcc_features = np.load('validation_mfccs_DCASE_2017.npy')\n",
    " \n",
    "train_labels = np.load('train_labels_DCASE_2017.npy')\n",
    "validation_labels =np.load('validation_labels_DCASE_2017.npy')\n",
    " \n",
    "train_label_encoder = LabelEncoder().fit(train_labels)\n",
    "train_labels = train_label_encoder.transform(train_labels)\n",
    "classes_train = list(train_label_encoder.classes_)\n",
    " \n",
    "validation_label_encoder = LabelEncoder().fit(validation_labels)\n",
    "validation_labels = validation_label_encoder.transform(validation_labels)\n",
    "classes_validation = list(validation_label_encoder.classes_)"
   ]
  },
  {
   "cell_type": "code",
   "execution_count": 3,
   "metadata": {},
   "outputs": [
    {
     "data": {
      "text/plain": [
       "['indoor', 'outdoor', 'vehicle']"
      ]
     },
     "execution_count": 3,
     "metadata": {},
     "output_type": "execute_result"
    }
   ],
   "source": [
    "classes_train"
   ]
  },
  {
   "cell_type": "code",
   "execution_count": 4,
   "metadata": {},
   "outputs": [],
   "source": [
    "train_scaled = []\n",
    "for i in range(len(train_mfcc_features)):\n",
    "    scaler_train = StandardScaler().fit(train_mfcc_features[i])\n",
    "    scaled_train = scaler_train.transform(train_mfcc_features[i])\n",
    "    train_scaled.append(scaled_train)"
   ]
  },
  {
   "cell_type": "code",
   "execution_count": 5,
   "metadata": {},
   "outputs": [],
   "source": [
    "validation_scaled = []\n",
    "for i in range(len(validation_mfcc_features)):\n",
    "    scaler_validation = StandardScaler().fit(validation_mfcc_features[i])\n",
    "    scaled_validation = scaler_validation.transform(validation_mfcc_features[i])\n",
    "    validation_scaled.append(scaled_validation)"
   ]
  },
  {
   "cell_type": "code",
   "execution_count": 6,
   "metadata": {},
   "outputs": [
    {
     "data": {
      "text/plain": [
       "(13, 431)"
      ]
     },
     "execution_count": 6,
     "metadata": {},
     "output_type": "execute_result"
    }
   ],
   "source": [
    "validation_scaled[1].shape"
   ]
  },
  {
   "cell_type": "code",
   "execution_count": 625,
   "metadata": {},
   "outputs": [],
   "source": [
    "X_train = train_scaled\n",
    "y_train = np_utils.to_categorical(train_labels)\n",
    " \n",
    "X_val = validation_scaled\n",
    "y_val = np_utils.to_categorical(validation_labels)"
   ]
  },
  {
   "cell_type": "code",
   "execution_count": 565,
   "metadata": {},
   "outputs": [
    {
     "name": "stdout",
     "output_type": "stream",
     "text": [
      "3507\n",
      "(13, 431)\n",
      "(13,)\n",
      "(13,)\n",
      "3507\n",
      "3507\n"
     ]
    }
   ],
   "source": [
    "print(len(X_train))\n",
    "print(X_train[1].shape)\n",
    "print(X_train[1].mean(axis=1).shape)\n",
    "print(X_train[1].std(axis=1).shape)\n",
    "\n",
    "X_train_mean = []\n",
    "X_train_std = []\n",
    "for i in range(len(X_train)):\n",
    "    X_train_mean.append(X_train[i].mean(axis=1))\n",
    "    X_train_std.append(X_train[i].std(axis=1))\n",
    "    \n",
    "print(len(X_train_mean))\n",
    "print(len(X_train_std))\n",
    "\n",
    "X_train_new = np.concatenate((X_train_mean, X_train_std), axis=1)"
   ]
  },
  {
   "cell_type": "code",
   "execution_count": 566,
   "metadata": {},
   "outputs": [
    {
     "data": {
      "text/plain": [
       "(3507, 26)"
      ]
     },
     "execution_count": 566,
     "metadata": {},
     "output_type": "execute_result"
    }
   ],
   "source": [
    "X_train_new.shape"
   ]
  },
  {
   "cell_type": "code",
   "execution_count": 567,
   "metadata": {},
   "outputs": [
    {
     "name": "stdout",
     "output_type": "stream",
     "text": [
      "1173\n",
      "(13, 431)\n",
      "(13,)\n",
      "(13,)\n",
      "1173\n",
      "1173\n"
     ]
    }
   ],
   "source": [
    "print(len(X_val))\n",
    "print(X_val[1].shape)\n",
    "print(X_val[1].mean(axis=1).shape)\n",
    "print(X_val[1].std(axis=1).shape)\n",
    "\n",
    "X_val_mean = []\n",
    "X_val_std = []\n",
    "for i in range(len(X_val)):\n",
    "    X_val_mean.append(X_val[i].mean(axis=1))\n",
    "    X_val_std.append(X_val[i].std(axis=1))\n",
    "    \n",
    "print(len(X_val_mean))\n",
    "print(len(X_val_std))\n",
    "\n",
    "X_val_new = np.concatenate((X_val_mean, X_val_std), axis=1)"
   ]
  },
  {
   "cell_type": "markdown",
   "metadata": {},
   "source": [
    "# 1D Convolutional Parameters"
   ]
  },
  {
   "cell_type": "code",
   "execution_count": 626,
   "metadata": {},
   "outputs": [
    {
     "name": "stdout",
     "output_type": "stream",
     "text": [
      "[INFO] X_train_1D_cnn.shape = (3507, 26, 1), y_train_1D_cnn_hot.shape = (3507, 3) \n",
      "[INFO] X_test_1D_cnn.shape = (1173, 26, 1), y_test_1D_cnn_hot.shape = (1173, 3) \n",
      "[DEBUG] y_train_1D_cnn_hot.shape = (3507, 3), y_train_1D_cnn_hot[0] = [0. 1. 0.]\n",
      "[DEBUG] y_test_1D_cnn_hot.shape = (1173, 3), y_test_1D_cnn_hot[0] = [0. 1. 0.]\n"
     ]
    }
   ],
   "source": [
    "NB_ROWS = 26     # corresponds to number of mfccs\n",
    "NB_COLS = 1    # correponds to the size of mfccs[i] (one mfcc)\n",
    " \n",
    "X_train = np.array(X_train_new)\n",
    "X_val = np.array(X_val_new)\n",
    " \n",
    "# Reshaping to perform 1D convolution\n",
    "X_train_1D_cnn = X_train.reshape(X_train.shape[0], NB_ROWS, NB_COLS)\n",
    "X_test_1D_cnn = X_val.reshape(X_val.shape[0], NB_ROWS, NB_COLS)\n",
    " \n",
    "y_train_1D_cnn_hot = y_train\n",
    "y_test_1D_cnn_hot = y_val\n",
    " \n",
    "print(\"[INFO] X_train_1D_cnn.shape = {}, y_train_1D_cnn_hot.shape = {} \".format(X_train_1D_cnn.shape, \n",
    "                                                                                y_train_1D_cnn_hot.shape))\n",
    "print(\"[INFO] X_test_1D_cnn.shape = {}, y_test_1D_cnn_hot.shape = {} \".format(X_test_1D_cnn.shape, \n",
    "                                                                              y_test_1D_cnn_hot.shape))\n",
    " \n",
    "# debug\n",
    "print(\"[DEBUG] y_train_1D_cnn_hot.shape = {}, y_train_1D_cnn_hot[0] = {}\".format(y_train_1D_cnn_hot.shape, \n",
    "                                                                                 y_train_1D_cnn_hot[0]))\n",
    "print(\"[DEBUG] y_test_1D_cnn_hot.shape = {}, y_test_1D_cnn_hot[0] = {}\".format(y_test_1D_cnn_hot.shape, \n",
    "                                                                               y_test_1D_cnn_hot[0]))"
   ]
  },
  {
   "cell_type": "code",
   "execution_count": 571,
   "metadata": {},
   "outputs": [],
   "source": [
    "def construct_model(input_shape=(26, 1), num_classes = 3):\n",
    "     \n",
    "    model = Sequential()\n",
    "    model.add(Conv1D(32, kernel_size=2, activation='relu', input_shape=input_shape))\n",
    "#     model.add(MaxPooling2D(pool_size=(2, 2)))\n",
    "    model.add(Conv1D(32, kernel_size=2, activation='relu'))\n",
    "    model.add(MaxPooling1D(pool_size=2))\n",
    "    model.add(Conv1D(32, kernel_size=2, activation='relu'))\n",
    "    model.add(MaxPooling1D(pool_size=2))\n",
    "    model.add(Dropout(0.25))\n",
    "    model.add(Flatten())\n",
    "#     model.add(Dense(128, activation='relu'))\n",
    "#     model.add(Dropout(0.25))\n",
    "#     model.add(Dense(64, activation='relu'))\n",
    "#     model.add(Dropout(0.4))\n",
    "    model.add(Dense(num_classes, activation='softmax', name=\"output_layer\"))\n",
    "    model.compile(loss=keras.losses.categorical_crossentropy,\n",
    "                  optimizer=keras.optimizers.Adam(),\n",
    "                  metrics=['accuracy'])\n",
    "    model.summary()\n",
    "     \n",
    "    inp = model.input                                                               # input placeholder\n",
    "    outputs = [layer.output for layer in model.layers]                              # all layer outputs\n",
    "    functors = [K.function([inp, K.learning_phase()], [out]) for out in outputs]    # evaluation functions\n",
    "     \n",
    "    return model"
   ]
  },
  {
   "cell_type": "code",
   "execution_count": 572,
   "metadata": {
    "scrolled": false
   },
   "outputs": [
    {
     "name": "stdout",
     "output_type": "stream",
     "text": [
      "Model: \"sequential_3\"\n",
      "_________________________________________________________________\n",
      "Layer (type)                 Output Shape              Param #   \n",
      "=================================================================\n",
      "conv1d_7 (Conv1D)            (None, 25, 32)            96        \n",
      "_________________________________________________________________\n",
      "conv1d_8 (Conv1D)            (None, 24, 32)            2080      \n",
      "_________________________________________________________________\n",
      "max_pooling1d_5 (MaxPooling1 (None, 12, 32)            0         \n",
      "_________________________________________________________________\n",
      "conv1d_9 (Conv1D)            (None, 11, 32)            2080      \n",
      "_________________________________________________________________\n",
      "max_pooling1d_6 (MaxPooling1 (None, 5, 32)             0         \n",
      "_________________________________________________________________\n",
      "dropout_1 (Dropout)          (None, 5, 32)             0         \n",
      "_________________________________________________________________\n",
      "flatten_1 (Flatten)          (None, 160)               0         \n",
      "_________________________________________________________________\n",
      "output_layer (Dense)         (None, 3)                 483       \n",
      "=================================================================\n",
      "Total params: 4,739\n",
      "Trainable params: 4,739\n",
      "Non-trainable params: 0\n",
      "_________________________________________________________________\n",
      "Train on 3507 samples, validate on 1173 samples\n",
      "Epoch 1/100\n",
      "3507/3507 [==============================] - ETA: 16s - loss: 1.1057 - accuracy: 0.281 - ETA: 1s - loss: 1.0895 - accuracy: 0.375 - ETA: 0s - loss: 1.0762 - accuracy: 0.38 - ETA: 0s - loss: 1.0718 - accuracy: 0.39 - ETA: 0s - loss: 1.0669 - accuracy: 0.40 - ETA: 0s - loss: 1.0584 - accuracy: 0.41 - ETA: 0s - loss: 1.0510 - accuracy: 0.43 - 1s 179us/step - loss: 1.0449 - accuracy: 0.4465 - val_loss: 0.9509 - val_accuracy: 0.6752\n",
      "\n",
      "Epoch 00001: val_loss improved from inf to 0.95090, saving model to D:\\Extrasensory_Journal\\DCASE_2017_1D-mfccs-weights.hdf5\n",
      "Epoch 2/100\n",
      "3507/3507 [==============================] - ETA: 0s - loss: 0.9669 - accuracy: 0.56 - ETA: 0s - loss: 0.9367 - accuracy: 0.65 - ETA: 0s - loss: 0.9206 - accuracy: 0.64 - ETA: 0s - loss: 0.8979 - accuracy: 0.65 - ETA: 0s - loss: 0.8786 - accuracy: 0.65 - ETA: 0s - loss: 0.8513 - accuracy: 0.66 - ETA: 0s - loss: 0.8263 - accuracy: 0.67 - 0s 121us/step - loss: 0.8109 - accuracy: 0.6843 - val_loss: 0.6122 - val_accuracy: 0.8031\n",
      "\n",
      "Epoch 00002: val_loss improved from 0.95090 to 0.61222, saving model to D:\\Extrasensory_Journal\\DCASE_2017_1D-mfccs-weights.hdf5\n",
      "Epoch 3/100\n",
      "3507/3507 [==============================] - ETA: 0s - loss: 0.7740 - accuracy: 0.59 - ETA: 0s - loss: 0.6582 - accuracy: 0.73 - ETA: 0s - loss: 0.6367 - accuracy: 0.74 - ETA: 0s - loss: 0.6369 - accuracy: 0.75 - ETA: 0s - loss: 0.6251 - accuracy: 0.75 - ETA: 0s - loss: 0.6068 - accuracy: 0.76 - ETA: 0s - loss: 0.5998 - accuracy: 0.76 - 0s 116us/step - loss: 0.5952 - accuracy: 0.7705 - val_loss: 0.4925 - val_accuracy: 0.8448\n",
      "\n",
      "Epoch 00003: val_loss improved from 0.61222 to 0.49246, saving model to D:\\Extrasensory_Journal\\DCASE_2017_1D-mfccs-weights.hdf5\n",
      "Epoch 4/100\n",
      "3507/3507 [==============================] - ETA: 0s - loss: 0.7189 - accuracy: 0.65 - ETA: 0s - loss: 0.5622 - accuracy: 0.76 - ETA: 0s - loss: 0.5286 - accuracy: 0.78 - ETA: 0s - loss: 0.5151 - accuracy: 0.79 - ETA: 0s - loss: 0.5175 - accuracy: 0.79 - ETA: 0s - loss: 0.5111 - accuracy: 0.80 - ETA: 0s - loss: 0.5063 - accuracy: 0.80 - 0s 117us/step - loss: 0.5007 - accuracy: 0.8107 - val_loss: 0.4772 - val_accuracy: 0.7988\n",
      "\n",
      "Epoch 00004: val_loss improved from 0.49246 to 0.47721, saving model to D:\\Extrasensory_Journal\\DCASE_2017_1D-mfccs-weights.hdf5\n",
      "Epoch 5/100\n",
      "3507/3507 [==============================] - ETA: 0s - loss: 0.5762 - accuracy: 0.78 - ETA: 0s - loss: 0.4711 - accuracy: 0.81 - ETA: 0s - loss: 0.4583 - accuracy: 0.81 - ETA: 0s - loss: 0.4514 - accuracy: 0.81 - ETA: 0s - loss: 0.4500 - accuracy: 0.82 - ETA: 0s - loss: 0.4397 - accuracy: 0.83 - ETA: 0s - loss: 0.4398 - accuracy: 0.83 - 0s 120us/step - loss: 0.4423 - accuracy: 0.8355 - val_loss: 0.4857 - val_accuracy: 0.7980\n",
      "\n",
      "Epoch 00005: val_loss did not improve from 0.47721\n",
      "Epoch 6/100\n",
      "3507/3507 [==============================] - ETA: 0s - loss: 0.2918 - accuracy: 0.90 - ETA: 0s - loss: 0.4235 - accuracy: 0.84 - ETA: 0s - loss: 0.4245 - accuracy: 0.84 - ETA: 0s - loss: 0.4338 - accuracy: 0.84 - ETA: 0s - loss: 0.4228 - accuracy: 0.84 - ETA: 0s - loss: 0.4274 - accuracy: 0.84 - ETA: 0s - loss: 0.4242 - accuracy: 0.84 - 0s 119us/step - loss: 0.4251 - accuracy: 0.8463 - val_loss: 0.4214 - val_accuracy: 0.8585\n",
      "\n",
      "Epoch 00006: val_loss improved from 0.47721 to 0.42145, saving model to D:\\Extrasensory_Journal\\DCASE_2017_1D-mfccs-weights.hdf5\n",
      "Epoch 7/100\n",
      "3507/3507 [==============================] - ETA: 0s - loss: 0.4505 - accuracy: 0.84 - ETA: 0s - loss: 0.4114 - accuracy: 0.84 - ETA: 0s - loss: 0.4118 - accuracy: 0.84 - ETA: 0s - loss: 0.3987 - accuracy: 0.85 - ETA: 0s - loss: 0.4007 - accuracy: 0.84 - ETA: 0s - loss: 0.3942 - accuracy: 0.84 - ETA: 0s - loss: 0.3912 - accuracy: 0.85 - 0s 118us/step - loss: 0.3896 - accuracy: 0.8563 - val_loss: 0.4402 - val_accuracy: 0.8201\n",
      "\n",
      "Epoch 00007: val_loss did not improve from 0.42145\n",
      "Epoch 8/100\n",
      "3507/3507 [==============================] - ETA: 0s - loss: 0.3803 - accuracy: 0.90 - ETA: 0s - loss: 0.3951 - accuracy: 0.86 - ETA: 0s - loss: 0.4210 - accuracy: 0.85 - ETA: 0s - loss: 0.3964 - accuracy: 0.86 - ETA: 0s - loss: 0.3884 - accuracy: 0.86 - ETA: 0s - loss: 0.3813 - accuracy: 0.86 - ETA: 0s - loss: 0.3798 - accuracy: 0.86 - 0s 118us/step - loss: 0.3871 - accuracy: 0.8620 - val_loss: 0.3923 - val_accuracy: 0.8593\n",
      "\n",
      "Epoch 00008: val_loss improved from 0.42145 to 0.39229, saving model to D:\\Extrasensory_Journal\\DCASE_2017_1D-mfccs-weights.hdf5\n",
      "Epoch 9/100\n",
      "3507/3507 [==============================] - ETA: 0s - loss: 0.3820 - accuracy: 0.87 - ETA: 0s - loss: 0.4126 - accuracy: 0.83 - ETA: 0s - loss: 0.3850 - accuracy: 0.84 - ETA: 0s - loss: 0.3703 - accuracy: 0.86 - ETA: 0s - loss: 0.3703 - accuracy: 0.86 - ETA: 0s - loss: 0.3577 - accuracy: 0.86 - ETA: 0s - loss: 0.3518 - accuracy: 0.86 - ETA: 0s - loss: 0.3503 - accuracy: 0.87 - 0s 123us/step - loss: 0.3536 - accuracy: 0.8711 - val_loss: 0.3566 - val_accuracy: 0.8755\n",
      "\n",
      "Epoch 00009: val_loss improved from 0.39229 to 0.35663, saving model to D:\\Extrasensory_Journal\\DCASE_2017_1D-mfccs-weights.hdf5\n",
      "Epoch 10/100\n",
      "3507/3507 [==============================] - ETA: 0s - loss: 0.4407 - accuracy: 0.81 - ETA: 0s - loss: 0.3544 - accuracy: 0.86 - ETA: 0s - loss: 0.3463 - accuracy: 0.86 - ETA: 0s - loss: 0.3637 - accuracy: 0.85 - ETA: 0s - loss: 0.3488 - accuracy: 0.87 - ETA: 0s - loss: 0.3432 - accuracy: 0.87 - ETA: 0s - loss: 0.3443 - accuracy: 0.87 - ETA: 0s - loss: 0.3383 - accuracy: 0.87 - 0s 126us/step - loss: 0.3377 - accuracy: 0.8745 - val_loss: 0.3714 - val_accuracy: 0.8576\n",
      "\n",
      "Epoch 00010: val_loss did not improve from 0.35663\n",
      "Epoch 11/100\n",
      "3507/3507 [==============================] - ETA: 0s - loss: 0.6734 - accuracy: 0.81 - ETA: 0s - loss: 0.3588 - accuracy: 0.87 - ETA: 0s - loss: 0.3501 - accuracy: 0.87 - ETA: 0s - loss: 0.3467 - accuracy: 0.87 - ETA: 0s - loss: 0.3321 - accuracy: 0.88 - ETA: 0s - loss: 0.3274 - accuracy: 0.88 - ETA: 0s - loss: 0.3272 - accuracy: 0.88 - 0s 122us/step - loss: 0.3269 - accuracy: 0.8854 - val_loss: 0.3373 - val_accuracy: 0.8883\n",
      "\n",
      "Epoch 00011: val_loss improved from 0.35663 to 0.33729, saving model to D:\\Extrasensory_Journal\\DCASE_2017_1D-mfccs-weights.hdf5\n",
      "Epoch 12/100\n",
      "3507/3507 [==============================] - ETA: 0s - loss: 0.3126 - accuracy: 0.90 - ETA: 0s - loss: 0.2517 - accuracy: 0.91 - ETA: 0s - loss: 0.2931 - accuracy: 0.90 - ETA: 0s - loss: 0.2979 - accuracy: 0.89 - ETA: 0s - loss: 0.3027 - accuracy: 0.89 - ETA: 0s - loss: 0.3213 - accuracy: 0.88 - ETA: 0s - loss: 0.3198 - accuracy: 0.88 - 0s 120us/step - loss: 0.3173 - accuracy: 0.8908 - val_loss: 0.3416 - val_accuracy: 0.8858\n",
      "\n",
      "Epoch 00012: val_loss did not improve from 0.33729\n",
      "Epoch 13/100\n",
      "3507/3507 [==============================] - ETA: 0s - loss: 0.3508 - accuracy: 0.90 - ETA: 0s - loss: 0.2886 - accuracy: 0.89 - ETA: 0s - loss: 0.3180 - accuracy: 0.88 - ETA: 0s - loss: 0.3157 - accuracy: 0.88 - ETA: 0s - loss: 0.3205 - accuracy: 0.88 - ETA: 0s - loss: 0.3056 - accuracy: 0.89 - ETA: 0s - loss: 0.3049 - accuracy: 0.89 - ETA: 0s - loss: 0.3052 - accuracy: 0.89 - 0s 127us/step - loss: 0.3052 - accuracy: 0.8905 - val_loss: 0.3179 - val_accuracy: 0.8951\n",
      "\n",
      "Epoch 00013: val_loss improved from 0.33729 to 0.31788, saving model to D:\\Extrasensory_Journal\\DCASE_2017_1D-mfccs-weights.hdf5\n",
      "Epoch 14/100\n",
      "3507/3507 [==============================] - ETA: 0s - loss: 0.1672 - accuracy: 0.90 - ETA: 0s - loss: 0.2700 - accuracy: 0.90 - ETA: 0s - loss: 0.2870 - accuracy: 0.90 - ETA: 0s - loss: 0.2941 - accuracy: 0.89 - ETA: 0s - loss: 0.2952 - accuracy: 0.89 - ETA: 0s - loss: 0.2961 - accuracy: 0.89 - ETA: 0s - loss: 0.2936 - accuracy: 0.89 - 0s 121us/step - loss: 0.2925 - accuracy: 0.8931 - val_loss: 0.3287 - val_accuracy: 0.8755\n",
      "\n",
      "Epoch 00014: val_loss did not improve from 0.31788\n",
      "Epoch 15/100\n",
      "3507/3507 [==============================] - ETA: 0s - loss: 0.1688 - accuracy: 0.93 - ETA: 0s - loss: 0.3205 - accuracy: 0.86 - ETA: 0s - loss: 0.3103 - accuracy: 0.87 - ETA: 0s - loss: 0.3043 - accuracy: 0.87 - ETA: 0s - loss: 0.2937 - accuracy: 0.88 - ETA: 0s - loss: 0.2935 - accuracy: 0.88 - ETA: 0s - loss: 0.2976 - accuracy: 0.88 - ETA: 0s - loss: 0.2919 - accuracy: 0.88 - 0s 125us/step - loss: 0.2901 - accuracy: 0.8896 - val_loss: 0.3056 - val_accuracy: 0.8875\n",
      "\n",
      "Epoch 00015: val_loss improved from 0.31788 to 0.30555, saving model to D:\\Extrasensory_Journal\\DCASE_2017_1D-mfccs-weights.hdf5\n",
      "Epoch 16/100\n",
      "3507/3507 [==============================] - ETA: 0s - loss: 0.1734 - accuracy: 0.90 - ETA: 0s - loss: 0.2930 - accuracy: 0.88 - ETA: 0s - loss: 0.2888 - accuracy: 0.88 - ETA: 0s - loss: 0.2783 - accuracy: 0.89 - ETA: 0s - loss: 0.2742 - accuracy: 0.89 - ETA: 0s - loss: 0.2687 - accuracy: 0.89 - ETA: 0s - loss: 0.2657 - accuracy: 0.90 - 0s 120us/step - loss: 0.2691 - accuracy: 0.9011 - val_loss: 0.2920 - val_accuracy: 0.9113\n",
      "\n",
      "Epoch 00016: val_loss improved from 0.30555 to 0.29200, saving model to D:\\Extrasensory_Journal\\DCASE_2017_1D-mfccs-weights.hdf5\n",
      "Epoch 17/100\n",
      "3507/3507 [==============================] - ETA: 0s - loss: 0.2365 - accuracy: 0.93 - ETA: 0s - loss: 0.3025 - accuracy: 0.89 - ETA: 0s - loss: 0.2699 - accuracy: 0.90 - ETA: 0s - loss: 0.2783 - accuracy: 0.89 - ETA: 0s - loss: 0.2864 - accuracy: 0.89 - ETA: 0s - loss: 0.2852 - accuracy: 0.89 - ETA: 0s - loss: 0.2796 - accuracy: 0.89 - 0s 119us/step - loss: 0.2780 - accuracy: 0.8996 - val_loss: 0.2924 - val_accuracy: 0.9037\n",
      "\n",
      "Epoch 00017: val_loss did not improve from 0.29200\n",
      "Epoch 18/100\n",
      "3507/3507 [==============================] - ETA: 0s - loss: 0.2693 - accuracy: 0.84 - ETA: 0s - loss: 0.2227 - accuracy: 0.92 - ETA: 0s - loss: 0.2668 - accuracy: 0.90 - ETA: 0s - loss: 0.2611 - accuracy: 0.90 - ETA: 0s - loss: 0.2690 - accuracy: 0.90 - ETA: 0s - loss: 0.2652 - accuracy: 0.91 - ETA: 0s - loss: 0.2644 - accuracy: 0.91 - 0s 118us/step - loss: 0.2644 - accuracy: 0.9096 - val_loss: 0.2994 - val_accuracy: 0.8892\n",
      "\n",
      "Epoch 00018: val_loss did not improve from 0.29200\n",
      "Epoch 19/100\n",
      "3507/3507 [==============================] - ETA: 0s - loss: 0.2567 - accuracy: 0.90 - ETA: 0s - loss: 0.2896 - accuracy: 0.89 - ETA: 0s - loss: 0.2886 - accuracy: 0.89 - ETA: 0s - loss: 0.2740 - accuracy: 0.90 - ETA: 0s - loss: 0.2635 - accuracy: 0.90 - ETA: 0s - loss: 0.2632 - accuracy: 0.90 - ETA: 0s - loss: 0.2679 - accuracy: 0.90 - 0s 119us/step - loss: 0.2641 - accuracy: 0.9045 - val_loss: 0.2737 - val_accuracy: 0.9045\n",
      "\n",
      "Epoch 00019: val_loss improved from 0.29200 to 0.27372, saving model to D:\\Extrasensory_Journal\\DCASE_2017_1D-mfccs-weights.hdf5\n",
      "Epoch 20/100\n",
      "3507/3507 [==============================] - ETA: 0s - loss: 0.3062 - accuracy: 0.90 - ETA: 0s - loss: 0.2483 - accuracy: 0.91 - ETA: 0s - loss: 0.2521 - accuracy: 0.90 - ETA: 0s - loss: 0.2534 - accuracy: 0.90 - ETA: 0s - loss: 0.2484 - accuracy: 0.90 - ETA: 0s - loss: 0.2500 - accuracy: 0.90 - ETA: 0s - loss: 0.2543 - accuracy: 0.90 - 0s 122us/step - loss: 0.2593 - accuracy: 0.9019 - val_loss: 0.2781 - val_accuracy: 0.9054\n",
      "\n",
      "Epoch 00020: val_loss did not improve from 0.27372\n",
      "Epoch 21/100\n",
      "3507/3507 [==============================] - ETA: 0s - loss: 0.1711 - accuracy: 0.96 - ETA: 0s - loss: 0.2494 - accuracy: 0.90 - ETA: 0s - loss: 0.2447 - accuracy: 0.91 - ETA: 0s - loss: 0.2550 - accuracy: 0.91 - ETA: 0s - loss: 0.2615 - accuracy: 0.91 - ETA: 0s - loss: 0.2654 - accuracy: 0.91 - ETA: 0s - loss: 0.2621 - accuracy: 0.90 - 0s 118us/step - loss: 0.2588 - accuracy: 0.9076 - val_loss: 0.3361 - val_accuracy: 0.8696\n",
      "\n",
      "Epoch 00021: val_loss did not improve from 0.27372\n",
      "Epoch 22/100\n",
      "3507/3507 [==============================] - ETA: 0s - loss: 0.1291 - accuracy: 1.00 - ETA: 0s - loss: 0.1988 - accuracy: 0.92 - ETA: 0s - loss: 0.2183 - accuracy: 0.92 - ETA: 0s - loss: 0.2185 - accuracy: 0.92 - ETA: 0s - loss: 0.2309 - accuracy: 0.92 - ETA: 0s - loss: 0.2390 - accuracy: 0.91 - ETA: 0s - loss: 0.2444 - accuracy: 0.91 - 0s 118us/step - loss: 0.2461 - accuracy: 0.9133 - val_loss: 0.2713 - val_accuracy: 0.8977\n",
      "\n",
      "Epoch 00022: val_loss improved from 0.27372 to 0.27126, saving model to D:\\Extrasensory_Journal\\DCASE_2017_1D-mfccs-weights.hdf5\n",
      "Epoch 23/100\n",
      "3507/3507 [==============================] - ETA: 0s - loss: 0.4302 - accuracy: 0.93 - ETA: 0s - loss: 0.2251 - accuracy: 0.92 - ETA: 0s - loss: 0.2333 - accuracy: 0.91 - ETA: 0s - loss: 0.2457 - accuracy: 0.91 - ETA: 0s - loss: 0.2473 - accuracy: 0.91 - ETA: 0s - loss: 0.2419 - accuracy: 0.91 - ETA: 0s - loss: 0.2405 - accuracy: 0.91 - 0s 117us/step - loss: 0.2395 - accuracy: 0.9119 - val_loss: 0.2859 - val_accuracy: 0.8968\n",
      "\n",
      "Epoch 00023: val_loss did not improve from 0.27126\n",
      "Epoch 24/100\n",
      "3507/3507 [==============================] - ETA: 0s - loss: 0.1140 - accuracy: 0.96 - ETA: 0s - loss: 0.2531 - accuracy: 0.91 - ETA: 0s - loss: 0.2421 - accuracy: 0.91 - ETA: 0s - loss: 0.2404 - accuracy: 0.91 - ETA: 0s - loss: 0.2530 - accuracy: 0.91 - ETA: 0s - loss: 0.2585 - accuracy: 0.91 - ETA: 0s - loss: 0.2539 - accuracy: 0.91 - ETA: 0s - loss: 0.2446 - accuracy: 0.91 - 0s 124us/step - loss: 0.2447 - accuracy: 0.9150 - val_loss: 0.2711 - val_accuracy: 0.9079\n",
      "\n",
      "Epoch 00024: val_loss improved from 0.27126 to 0.27108, saving model to D:\\Extrasensory_Journal\\DCASE_2017_1D-mfccs-weights.hdf5\n",
      "Epoch 25/100\n",
      "3507/3507 [==============================] - ETA: 0s - loss: 0.1449 - accuracy: 0.96 - ETA: 0s - loss: 0.2252 - accuracy: 0.93 - ETA: 0s - loss: 0.2252 - accuracy: 0.92 - ETA: 0s - loss: 0.2386 - accuracy: 0.91 - ETA: 0s - loss: 0.2411 - accuracy: 0.91 - ETA: 0s - loss: 0.2396 - accuracy: 0.91 - ETA: 0s - loss: 0.2376 - accuracy: 0.91 - 0s 120us/step - loss: 0.2372 - accuracy: 0.9116 - val_loss: 0.2703 - val_accuracy: 0.9062\n",
      "\n",
      "Epoch 00025: val_loss improved from 0.27108 to 0.27033, saving model to D:\\Extrasensory_Journal\\DCASE_2017_1D-mfccs-weights.hdf5\n",
      "Epoch 26/100\n",
      "3507/3507 [==============================] - ETA: 0s - loss: 0.4271 - accuracy: 0.87 - ETA: 0s - loss: 0.2269 - accuracy: 0.91 - ETA: 0s - loss: 0.2300 - accuracy: 0.91 - ETA: 0s - loss: 0.2238 - accuracy: 0.92 - ETA: 0s - loss: 0.2287 - accuracy: 0.92 - ETA: 0s - loss: 0.2279 - accuracy: 0.91 - ETA: 0s - loss: 0.2226 - accuracy: 0.92 - ETA: 0s - loss: 0.2277 - accuracy: 0.92 - 0s 126us/step - loss: 0.2282 - accuracy: 0.9199 - val_loss: 0.2596 - val_accuracy: 0.9071\n",
      "\n",
      "Epoch 00026: val_loss improved from 0.27033 to 0.25965, saving model to D:\\Extrasensory_Journal\\DCASE_2017_1D-mfccs-weights.hdf5\n",
      "Epoch 27/100\n",
      "3507/3507 [==============================] - ETA: 0s - loss: 0.3241 - accuracy: 0.96 - ETA: 0s - loss: 0.2185 - accuracy: 0.92 - ETA: 0s - loss: 0.2213 - accuracy: 0.92 - ETA: 0s - loss: 0.2276 - accuracy: 0.91 - ETA: 0s - loss: 0.2314 - accuracy: 0.91 - ETA: 0s - loss: 0.2222 - accuracy: 0.91 - ETA: 0s - loss: 0.2222 - accuracy: 0.91 - ETA: 0s - loss: 0.2225 - accuracy: 0.91 - 0s 122us/step - loss: 0.2224 - accuracy: 0.9190 - val_loss: 0.2566 - val_accuracy: 0.9182\n",
      "\n"
     ]
    },
    {
     "name": "stdout",
     "output_type": "stream",
     "text": [
      "Epoch 00027: val_loss improved from 0.25965 to 0.25658, saving model to D:\\Extrasensory_Journal\\DCASE_2017_1D-mfccs-weights.hdf5\n",
      "Epoch 28/100\n",
      "3507/3507 [==============================] - ETA: 0s - loss: 0.1334 - accuracy: 0.93 - ETA: 0s - loss: 0.2122 - accuracy: 0.91 - ETA: 0s - loss: 0.2094 - accuracy: 0.92 - ETA: 0s - loss: 0.2414 - accuracy: 0.90 - ETA: 0s - loss: 0.2429 - accuracy: 0.90 - ETA: 0s - loss: 0.2350 - accuracy: 0.91 - ETA: 0s - loss: 0.2271 - accuracy: 0.91 - 0s 121us/step - loss: 0.2251 - accuracy: 0.9162 - val_loss: 0.2648 - val_accuracy: 0.9147\n",
      "\n",
      "Epoch 00028: val_loss did not improve from 0.25658\n",
      "Epoch 29/100\n",
      "3507/3507 [==============================] - ETA: 0s - loss: 0.1929 - accuracy: 0.93 - ETA: 0s - loss: 0.1919 - accuracy: 0.93 - ETA: 0s - loss: 0.2052 - accuracy: 0.92 - ETA: 0s - loss: 0.2050 - accuracy: 0.92 - ETA: 0s - loss: 0.2101 - accuracy: 0.91 - ETA: 0s - loss: 0.2120 - accuracy: 0.91 - ETA: 0s - loss: 0.2200 - accuracy: 0.91 - ETA: 0s - loss: 0.2249 - accuracy: 0.91 - 0s 125us/step - loss: 0.2249 - accuracy: 0.9159 - val_loss: 0.2543 - val_accuracy: 0.9147\n",
      "\n",
      "Epoch 00029: val_loss improved from 0.25658 to 0.25428, saving model to D:\\Extrasensory_Journal\\DCASE_2017_1D-mfccs-weights.hdf5\n",
      "Epoch 30/100\n",
      "3507/3507 [==============================] - ETA: 0s - loss: 0.3986 - accuracy: 0.93 - ETA: 0s - loss: 0.2172 - accuracy: 0.92 - ETA: 0s - loss: 0.2052 - accuracy: 0.92 - ETA: 0s - loss: 0.2179 - accuracy: 0.92 - ETA: 0s - loss: 0.2164 - accuracy: 0.92 - ETA: 0s - loss: 0.2141 - accuracy: 0.92 - ETA: 0s - loss: 0.2223 - accuracy: 0.91 - ETA: 0s - loss: 0.2210 - accuracy: 0.91 - 0s 124us/step - loss: 0.2194 - accuracy: 0.9199 - val_loss: 0.2523 - val_accuracy: 0.9173\n",
      "\n",
      "Epoch 00030: val_loss improved from 0.25428 to 0.25228, saving model to D:\\Extrasensory_Journal\\DCASE_2017_1D-mfccs-weights.hdf5\n",
      "Epoch 31/100\n",
      "3507/3507 [==============================] - ETA: 0s - loss: 0.1612 - accuracy: 0.96 - ETA: 0s - loss: 0.2218 - accuracy: 0.91 - ETA: 0s - loss: 0.2151 - accuracy: 0.91 - ETA: 0s - loss: 0.2053 - accuracy: 0.92 - ETA: 0s - loss: 0.2084 - accuracy: 0.92 - ETA: 0s - loss: 0.2173 - accuracy: 0.92 - ETA: 0s - loss: 0.2181 - accuracy: 0.92 - 0s 119us/step - loss: 0.2182 - accuracy: 0.9210 - val_loss: 0.2691 - val_accuracy: 0.9079\n",
      "\n",
      "Epoch 00031: val_loss did not improve from 0.25228\n",
      "Epoch 32/100\n",
      "3507/3507 [==============================] - ETA: 0s - loss: 0.2022 - accuracy: 0.93 - ETA: 0s - loss: 0.1630 - accuracy: 0.94 - ETA: 0s - loss: 0.1761 - accuracy: 0.93 - ETA: 0s - loss: 0.1822 - accuracy: 0.93 - ETA: 0s - loss: 0.1973 - accuracy: 0.93 - ETA: 0s - loss: 0.2020 - accuracy: 0.92 - ETA: 0s - loss: 0.2056 - accuracy: 0.92 - 0s 117us/step - loss: 0.2054 - accuracy: 0.9279 - val_loss: 0.2609 - val_accuracy: 0.9071\n",
      "\n",
      "Epoch 00032: val_loss did not improve from 0.25228\n",
      "Epoch 33/100\n",
      "3507/3507 [==============================] - ETA: 0s - loss: 0.2970 - accuracy: 0.87 - ETA: 0s - loss: 0.1859 - accuracy: 0.93 - ETA: 0s - loss: 0.1960 - accuracy: 0.93 - ETA: 0s - loss: 0.1957 - accuracy: 0.92 - ETA: 0s - loss: 0.1998 - accuracy: 0.92 - ETA: 0s - loss: 0.2047 - accuracy: 0.92 - ETA: 0s - loss: 0.2060 - accuracy: 0.92 - 0s 122us/step - loss: 0.2069 - accuracy: 0.9253 - val_loss: 0.2653 - val_accuracy: 0.9113\n",
      "\n",
      "Epoch 00033: val_loss did not improve from 0.25228\n",
      "Epoch 34/100\n",
      "3507/3507 [==============================] - ETA: 0s - loss: 0.1826 - accuracy: 0.96 - ETA: 0s - loss: 0.2394 - accuracy: 0.91 - ETA: 0s - loss: 0.2213 - accuracy: 0.91 - ETA: 0s - loss: 0.2097 - accuracy: 0.92 - ETA: 0s - loss: 0.2127 - accuracy: 0.92 - ETA: 0s - loss: 0.2115 - accuracy: 0.92 - ETA: 0s - loss: 0.2055 - accuracy: 0.92 - ETA: 0s - loss: 0.2020 - accuracy: 0.92 - 0s 122us/step - loss: 0.2018 - accuracy: 0.9284 - val_loss: 0.2769 - val_accuracy: 0.9045\n",
      "\n",
      "Epoch 00034: val_loss did not improve from 0.25228\n",
      "Epoch 35/100\n",
      "3507/3507 [==============================] - ETA: 0s - loss: 0.1580 - accuracy: 0.93 - ETA: 0s - loss: 0.1942 - accuracy: 0.93 - ETA: 0s - loss: 0.1829 - accuracy: 0.93 - ETA: 0s - loss: 0.1874 - accuracy: 0.93 - ETA: 0s - loss: 0.1961 - accuracy: 0.93 - ETA: 0s - loss: 0.1989 - accuracy: 0.93 - ETA: 0s - loss: 0.2036 - accuracy: 0.92 - 0s 119us/step - loss: 0.2047 - accuracy: 0.9273 - val_loss: 0.2500 - val_accuracy: 0.9147\n",
      "\n",
      "Epoch 00035: val_loss improved from 0.25228 to 0.25003, saving model to D:\\Extrasensory_Journal\\DCASE_2017_1D-mfccs-weights.hdf5\n",
      "Epoch 36/100\n",
      "3507/3507 [==============================] - ETA: 0s - loss: 0.1177 - accuracy: 0.93 - ETA: 0s - loss: 0.1948 - accuracy: 0.93 - ETA: 0s - loss: 0.2069 - accuracy: 0.92 - ETA: 0s - loss: 0.2044 - accuracy: 0.92 - ETA: 0s - loss: 0.1959 - accuracy: 0.93 - ETA: 0s - loss: 0.1931 - accuracy: 0.93 - ETA: 0s - loss: 0.2015 - accuracy: 0.93 - 0s 120us/step - loss: 0.1991 - accuracy: 0.9304 - val_loss: 0.2636 - val_accuracy: 0.9011\n",
      "\n",
      "Epoch 00036: val_loss did not improve from 0.25003\n",
      "Epoch 37/100\n",
      "3507/3507 [==============================] - ETA: 0s - loss: 0.1363 - accuracy: 0.96 - ETA: 0s - loss: 0.2289 - accuracy: 0.91 - ETA: 0s - loss: 0.1995 - accuracy: 0.92 - ETA: 0s - loss: 0.2055 - accuracy: 0.92 - ETA: 0s - loss: 0.2096 - accuracy: 0.92 - ETA: 0s - loss: 0.2064 - accuracy: 0.92 - ETA: 0s - loss: 0.1994 - accuracy: 0.92 - 0s 122us/step - loss: 0.1923 - accuracy: 0.9330 - val_loss: 0.2600 - val_accuracy: 0.9105\n",
      "\n",
      "Epoch 00037: val_loss did not improve from 0.25003\n",
      "Epoch 38/100\n",
      "3507/3507 [==============================] - ETA: 0s - loss: 0.2957 - accuracy: 0.87 - ETA: 0s - loss: 0.2222 - accuracy: 0.92 - ETA: 0s - loss: 0.2059 - accuracy: 0.92 - ETA: 0s - loss: 0.2055 - accuracy: 0.92 - ETA: 0s - loss: 0.2012 - accuracy: 0.93 - ETA: 0s - loss: 0.1958 - accuracy: 0.93 - ETA: 0s - loss: 0.1933 - accuracy: 0.93 - 0s 118us/step - loss: 0.1944 - accuracy: 0.9336 - val_loss: 0.2465 - val_accuracy: 0.9147\n",
      "\n",
      "Epoch 00038: val_loss improved from 0.25003 to 0.24653, saving model to D:\\Extrasensory_Journal\\DCASE_2017_1D-mfccs-weights.hdf5\n",
      "Epoch 39/100\n",
      "3507/3507 [==============================] - ETA: 0s - loss: 0.4378 - accuracy: 0.90 - ETA: 0s - loss: 0.1934 - accuracy: 0.94 - ETA: 0s - loss: 0.1837 - accuracy: 0.94 - ETA: 0s - loss: 0.1832 - accuracy: 0.94 - ETA: 0s - loss: 0.1830 - accuracy: 0.94 - ETA: 0s - loss: 0.1844 - accuracy: 0.93 - ETA: 0s - loss: 0.1853 - accuracy: 0.93 - 0s 120us/step - loss: 0.1885 - accuracy: 0.9327 - val_loss: 0.2839 - val_accuracy: 0.9062\n",
      "\n",
      "Epoch 00039: val_loss did not improve from 0.24653\n",
      "Epoch 40/100\n",
      "3507/3507 [==============================] - ETA: 0s - loss: 0.1357 - accuracy: 0.96 - ETA: 0s - loss: 0.2010 - accuracy: 0.91 - ETA: 0s - loss: 0.1917 - accuracy: 0.92 - ETA: 0s - loss: 0.1885 - accuracy: 0.92 - ETA: 0s - loss: 0.1840 - accuracy: 0.93 - ETA: 0s - loss: 0.1776 - accuracy: 0.93 - ETA: 0s - loss: 0.1775 - accuracy: 0.93 - ETA: 0s - loss: 0.1822 - accuracy: 0.93 - 0s 122us/step - loss: 0.1838 - accuracy: 0.9344 - val_loss: 0.2758 - val_accuracy: 0.9011\n",
      "\n",
      "Epoch 00040: val_loss did not improve from 0.24653\n",
      "Epoch 41/100\n",
      "3507/3507 [==============================] - ETA: 0s - loss: 0.1401 - accuracy: 0.93 - ETA: 0s - loss: 0.1598 - accuracy: 0.94 - ETA: 0s - loss: 0.1666 - accuracy: 0.94 - ETA: 0s - loss: 0.1763 - accuracy: 0.93 - ETA: 0s - loss: 0.1853 - accuracy: 0.93 - ETA: 0s - loss: 0.1819 - accuracy: 0.93 - ETA: 0s - loss: 0.1820 - accuracy: 0.93 - ETA: 0s - loss: 0.1822 - accuracy: 0.93 - 0s 124us/step - loss: 0.1816 - accuracy: 0.9370 - val_loss: 0.2451 - val_accuracy: 0.9173\n",
      "\n",
      "Epoch 00041: val_loss improved from 0.24653 to 0.24507, saving model to D:\\Extrasensory_Journal\\DCASE_2017_1D-mfccs-weights.hdf5\n",
      "Epoch 42/100\n",
      "3507/3507 [==============================] - ETA: 0s - loss: 0.1006 - accuracy: 0.96 - ETA: 0s - loss: 0.1846 - accuracy: 0.93 - ETA: 0s - loss: 0.1839 - accuracy: 0.92 - ETA: 0s - loss: 0.1983 - accuracy: 0.92 - ETA: 0s - loss: 0.1930 - accuracy: 0.92 - ETA: 0s - loss: 0.1938 - accuracy: 0.93 - ETA: 0s - loss: 0.1915 - accuracy: 0.93 - ETA: 0s - loss: 0.1880 - accuracy: 0.93 - 0s 122us/step - loss: 0.1879 - accuracy: 0.9324 - val_loss: 0.2439 - val_accuracy: 0.9165\n",
      "\n",
      "Epoch 00042: val_loss improved from 0.24507 to 0.24387, saving model to D:\\Extrasensory_Journal\\DCASE_2017_1D-mfccs-weights.hdf5\n",
      "Epoch 43/100\n",
      "3507/3507 [==============================] - ETA: 0s - loss: 0.1743 - accuracy: 0.93 - ETA: 0s - loss: 0.1227 - accuracy: 0.96 - ETA: 0s - loss: 0.1591 - accuracy: 0.94 - ETA: 0s - loss: 0.1739 - accuracy: 0.94 - ETA: 0s - loss: 0.1848 - accuracy: 0.93 - ETA: 0s - loss: 0.1864 - accuracy: 0.93 - ETA: 0s - loss: 0.1896 - accuracy: 0.93 - 0s 119us/step - loss: 0.1896 - accuracy: 0.9341 - val_loss: 0.2617 - val_accuracy: 0.9071\n",
      "\n",
      "Epoch 00043: val_loss did not improve from 0.24387\n",
      "Epoch 44/100\n",
      "3507/3507 [==============================] - ETA: 0s - loss: 0.1562 - accuracy: 0.93 - ETA: 0s - loss: 0.1764 - accuracy: 0.94 - ETA: 0s - loss: 0.1840 - accuracy: 0.93 - ETA: 0s - loss: 0.1916 - accuracy: 0.93 - ETA: 0s - loss: 0.1905 - accuracy: 0.93 - ETA: 0s - loss: 0.1915 - accuracy: 0.93 - ETA: 0s - loss: 0.1869 - accuracy: 0.93 - 0s 121us/step - loss: 0.1846 - accuracy: 0.9353 - val_loss: 0.2540 - val_accuracy: 0.9122\n",
      "\n",
      "Epoch 00044: val_loss did not improve from 0.24387\n",
      "Epoch 45/100\n",
      "3507/3507 [==============================] - ETA: 0s - loss: 0.1523 - accuracy: 0.96 - ETA: 0s - loss: 0.1649 - accuracy: 0.94 - ETA: 0s - loss: 0.1463 - accuracy: 0.94 - ETA: 0s - loss: 0.1628 - accuracy: 0.94 - ETA: 0s - loss: 0.1885 - accuracy: 0.93 - ETA: 0s - loss: 0.1796 - accuracy: 0.93 - ETA: 0s - loss: 0.1812 - accuracy: 0.93 - ETA: 0s - loss: 0.1785 - accuracy: 0.93 - 0s 123us/step - loss: 0.1803 - accuracy: 0.9373 - val_loss: 0.2361 - val_accuracy: 0.9190\n",
      "\n",
      "Epoch 00045: val_loss improved from 0.24387 to 0.23610, saving model to D:\\Extrasensory_Journal\\DCASE_2017_1D-mfccs-weights.hdf5\n",
      "Epoch 46/100\n",
      "3507/3507 [==============================] - ETA: 0s - loss: 0.1003 - accuracy: 1.00 - ETA: 0s - loss: 0.1504 - accuracy: 0.94 - ETA: 0s - loss: 0.1525 - accuracy: 0.95 - ETA: 0s - loss: 0.1521 - accuracy: 0.95 - ETA: 0s - loss: 0.1621 - accuracy: 0.94 - ETA: 0s - loss: 0.1670 - accuracy: 0.94 - ETA: 0s - loss: 0.1715 - accuracy: 0.93 - 0s 122us/step - loss: 0.1723 - accuracy: 0.9398 - val_loss: 0.2510 - val_accuracy: 0.9062\n",
      "\n",
      "Epoch 00046: val_loss did not improve from 0.23610\n",
      "Epoch 47/100\n",
      "3507/3507 [==============================] - ETA: 0s - loss: 0.1844 - accuracy: 0.96 - ETA: 0s - loss: 0.1655 - accuracy: 0.93 - ETA: 0s - loss: 0.1606 - accuracy: 0.94 - ETA: 0s - loss: 0.1567 - accuracy: 0.94 - ETA: 0s - loss: 0.1606 - accuracy: 0.93 - ETA: 0s - loss: 0.1630 - accuracy: 0.94 - ETA: 0s - loss: 0.1732 - accuracy: 0.93 - 0s 116us/step - loss: 0.1750 - accuracy: 0.9344 - val_loss: 0.2217 - val_accuracy: 0.9199\n",
      "\n",
      "Epoch 00047: val_loss improved from 0.23610 to 0.22170, saving model to D:\\Extrasensory_Journal\\DCASE_2017_1D-mfccs-weights.hdf5\n",
      "Epoch 48/100\n",
      "3507/3507 [==============================] - ETA: 0s - loss: 0.1114 - accuracy: 1.00 - ETA: 0s - loss: 0.1855 - accuracy: 0.92 - ETA: 0s - loss: 0.1871 - accuracy: 0.93 - ETA: 0s - loss: 0.1869 - accuracy: 0.93 - ETA: 0s - loss: 0.1893 - accuracy: 0.93 - ETA: 0s - loss: 0.1788 - accuracy: 0.93 - ETA: 0s - loss: 0.1741 - accuracy: 0.94 - ETA: 0s - loss: 0.1708 - accuracy: 0.93 - 0s 124us/step - loss: 0.1700 - accuracy: 0.9387 - val_loss: 0.2465 - val_accuracy: 0.9122\n",
      "\n",
      "Epoch 00048: val_loss did not improve from 0.22170\n",
      "Epoch 49/100\n",
      "3507/3507 [==============================] - ETA: 0s - loss: 0.3148 - accuracy: 0.84 - ETA: 0s - loss: 0.1663 - accuracy: 0.93 - ETA: 0s - loss: 0.1483 - accuracy: 0.94 - ETA: 0s - loss: 0.1554 - accuracy: 0.94 - ETA: 0s - loss: 0.1622 - accuracy: 0.94 - ETA: 0s - loss: 0.1612 - accuracy: 0.94 - ETA: 0s - loss: 0.1634 - accuracy: 0.94 - 0s 120us/step - loss: 0.1660 - accuracy: 0.9398 - val_loss: 0.2315 - val_accuracy: 0.9147\n",
      "\n",
      "Epoch 00049: val_loss did not improve from 0.22170\n",
      "Epoch 50/100\n",
      "3507/3507 [==============================] - ETA: 0s - loss: 0.1958 - accuracy: 0.93 - ETA: 0s - loss: 0.1844 - accuracy: 0.94 - ETA: 0s - loss: 0.1870 - accuracy: 0.94 - ETA: 0s - loss: 0.1779 - accuracy: 0.94 - ETA: 0s - loss: 0.1742 - accuracy: 0.94 - ETA: 0s - loss: 0.1697 - accuracy: 0.94 - ETA: 0s - loss: 0.1686 - accuracy: 0.94 - 0s 117us/step - loss: 0.1687 - accuracy: 0.9450 - val_loss: 0.2484 - val_accuracy: 0.9122\n",
      "\n",
      "Epoch 00050: val_loss did not improve from 0.22170\n",
      "Epoch 51/100\n",
      "3507/3507 [==============================] - ETA: 0s - loss: 0.3257 - accuracy: 0.84 - ETA: 0s - loss: 0.1910 - accuracy: 0.93 - ETA: 0s - loss: 0.1961 - accuracy: 0.92 - ETA: 0s - loss: 0.1771 - accuracy: 0.93 - ETA: 0s - loss: 0.1684 - accuracy: 0.93 - ETA: 0s - loss: 0.1707 - accuracy: 0.93 - ETA: 0s - loss: 0.1734 - accuracy: 0.93 - 0s 119us/step - loss: 0.1691 - accuracy: 0.9378 - val_loss: 0.2239 - val_accuracy: 0.9250\n",
      "\n",
      "Epoch 00051: val_loss did not improve from 0.22170\n",
      "Epoch 52/100\n",
      "3507/3507 [==============================] - ETA: 0s - loss: 0.2343 - accuracy: 0.84 - ETA: 0s - loss: 0.1597 - accuracy: 0.93 - ETA: 0s - loss: 0.1535 - accuracy: 0.94 - ETA: 0s - loss: 0.1602 - accuracy: 0.93 - ETA: 0s - loss: 0.1583 - accuracy: 0.93 - ETA: 0s - loss: 0.1534 - accuracy: 0.94 - ETA: 0s - loss: 0.1554 - accuracy: 0.94 - ETA: 0s - loss: 0.1667 - accuracy: 0.93 - 0s 121us/step - loss: 0.1671 - accuracy: 0.9364 - val_loss: 0.2796 - val_accuracy: 0.8951\n",
      "\n",
      "Epoch 00052: val_loss did not improve from 0.22170\n",
      "Epoch 53/100\n",
      "3507/3507 [==============================] - ETA: 0s - loss: 0.4599 - accuracy: 0.90 - ETA: 0s - loss: 0.1948 - accuracy: 0.92 - ETA: 0s - loss: 0.2003 - accuracy: 0.93 - ETA: 0s - loss: 0.1896 - accuracy: 0.93 - ETA: 0s - loss: 0.1763 - accuracy: 0.94 - ETA: 0s - loss: 0.1749 - accuracy: 0.94 - ETA: 0s - loss: 0.1697 - accuracy: 0.94 - ETA: 0s - loss: 0.1639 - accuracy: 0.94 - 0s 122us/step - loss: 0.1634 - accuracy: 0.9450 - val_loss: 0.2563 - val_accuracy: 0.9079\n",
      "\n",
      "Epoch 00053: val_loss did not improve from 0.22170\n",
      "Epoch 54/100\n",
      "3507/3507 [==============================] - ETA: 0s - loss: 0.2982 - accuracy: 0.90 - ETA: 0s - loss: 0.1647 - accuracy: 0.94 - ETA: 0s - loss: 0.1539 - accuracy: 0.94 - ETA: 0s - loss: 0.1668 - accuracy: 0.93 - ETA: 0s - loss: 0.1665 - accuracy: 0.94 - ETA: 0s - loss: 0.1647 - accuracy: 0.94 - ETA: 0s - loss: 0.1594 - accuracy: 0.94 - 0s 120us/step - loss: 0.1595 - accuracy: 0.9415 - val_loss: 0.2548 - val_accuracy: 0.9088\n",
      "\n",
      "Epoch 00054: val_loss did not improve from 0.22170\n",
      "Epoch 00054: early stopping\n",
      "[INFO] Model trained in 24.503504276275635 ms\n"
     ]
    }
   ],
   "source": [
    "epochs = 100\n",
    "batch_size = 32\n",
    "verbose = 1\n",
    "num_classes = 3\n",
    "input_shape = (NB_ROWS, NB_COLS)\n",
    " \n",
    "outputFolder = \"D:\\\\Extrasensory_Journal\"\n",
    " \n",
    "# Create the model and fit it\n",
    "start = time.time()\n",
    "model = construct_model(input_shape=input_shape, num_classes=num_classes)\n",
    "filepath = outputFolder + \"\\\\DCASE_2017_1D-mfccs-weights.hdf5\"\n",
    "checkpoint = ModelCheckpoint(filepath, \n",
    "                             monitor='val_loss',\n",
    "                             verbose=verbose,\n",
    "                             save_best_only=True,\n",
    "                             save_weights_only=True, \n",
    "                             mode='auto')\n",
    " \n",
    "earlystop = EarlyStopping(monitor='val_loss', \n",
    "                          patience=7,\n",
    "                          verbose=verbose, \n",
    "                          mode='auto')\n",
    " \n",
    "callbacks_list = [checkpoint, earlystop]\n",
    "history = model.fit(X_train_1D_cnn, \n",
    "                    y_train_1D_cnn_hot, \n",
    "                    batch_size=batch_size, \n",
    "                    epochs=epochs,\n",
    "                    callbacks=callbacks_list,\n",
    "                    verbose=verbose, \n",
    "                    validation_data=(X_test_1D_cnn, y_test_1D_cnn_hot))\n",
    "end = time.time()\n",
    " \n",
    "print(\"[INFO] Model trained in {} ms\".format((end-start)))\n",
    "model.save('DCASE_2017_mfccs_1D_k4.h5')"
   ]
  },
  {
   "cell_type": "code",
   "execution_count": 573,
   "metadata": {},
   "outputs": [
    {
     "name": "stdout",
     "output_type": "stream",
     "text": [
      "dict_keys(['val_loss', 'val_accuracy', 'loss', 'accuracy'])\n"
     ]
    },
    {
     "data": {
      "image/png": "[encoded data removed]",
      "text/plain": [
       "<Figure size 720x480 with 1 Axes>"
      ]
     },
     "metadata": {
      "needs_background": "light"
     },
     "output_type": "display_data"
    },
    {
     "data": {
      "image/png": "[encoded data removed]",
      "text/plain": [
       "<Figure size 720x480 with 1 Axes>"
      ]
     },
     "metadata": {
      "needs_background": "light"
     },
     "output_type": "display_data"
    },
    {
     "name": "stdout",
     "output_type": "stream",
     "text": [
      "Training accuracy: 94.15% / Validation accuracy: 90.88%\n"
     ]
    }
   ],
   "source": [
    "# list all data in history\n",
    "print(history.history.keys())\n",
    "# summarize history for accuracy\n",
    "plt.figure(dpi=120)\n",
    "plt.plot(history.history['accuracy'])\n",
    "plt.plot(history.history['val_accuracy'])\n",
    "plt.title('model accuracy')\n",
    "plt.ylabel('accuracy')\n",
    "plt.xlabel('epoch')\n",
    "plt.legend(['train', 'validation'], loc='upper left')\n",
    "plt.show()\n",
    "# summarize history for loss\n",
    "plt.figure(dpi=120)\n",
    "plt.plot(history.history['loss'])\n",
    "plt.plot(history.history['val_loss'])\n",
    "plt.title('model loss')\n",
    "plt.ylabel('loss')\n",
    "plt.xlabel('epoch')\n",
    "plt.legend(['train', 'validation'], loc='upper left')\n",
    "plt.show()\n",
    "\n",
    " \n",
    "print(\"Training accuracy: %.2f%% / Validation accuracy: %.2f%%\" %\n",
    "      (100*history.history['accuracy'][-1], 100*history.history['val_accuracy'][-1]))"
   ]
  },
  {
   "cell_type": "markdown",
   "metadata": {},
   "source": [
    "# Confusion Matrix DCASE_2017 Development 1D MFCC (avg+std)"
   ]
  },
  {
   "cell_type": "code",
   "execution_count": 654,
   "metadata": {},
   "outputs": [],
   "source": [
    "model = load_model('DCASE_2017_mfccs_1D.h5')\n",
    "X_val_new = X_val.reshape(1173,26,1)\n",
    "Y_prediction = model.predict(X_val_new)\n",
    "# Convert predictions classes to one hot vectors \n",
    "Y_pred_classes = np.argmax(Y_prediction,axis = 1) \n",
    "# Convert validation observations to one hot vectors\n",
    "Y_true = np.argmax(y_val,axis = 1) \n",
    "# compute the confusion matrix\n",
    "target_names = ['indoor', 'outdoor', 'vehicle']\n",
    "confusion_mtx = confusion_matrix(Y_true, Y_pred_classes)"
   ]
  },
  {
   "cell_type": "code",
   "execution_count": 655,
   "metadata": {},
   "outputs": [
    {
     "data": {
      "text/plain": [
       "array([[4.9156444e-07, 9.9999630e-01, 3.2621401e-06],\n",
       "       [6.1361775e-06, 9.9864668e-01, 1.3471498e-03],\n",
       "       [1.8219067e-03, 9.9701238e-01, 1.1656566e-03],\n",
       "       ...,\n",
       "       [5.5377680e-01, 4.0337887e-01, 4.2844370e-02],\n",
       "       [8.2574958e-01, 8.2447201e-02, 9.1803208e-02],\n",
       "       [9.5151168e-01, 4.7339499e-02, 1.1488016e-03]], dtype=float32)"
      ]
     },
     "execution_count": 655,
     "metadata": {},
     "output_type": "execute_result"
    }
   ],
   "source": [
    "Y_prediction"
   ]
  },
  {
   "cell_type": "code",
   "execution_count": 656,
   "metadata": {},
   "outputs": [
    {
     "data": {
      "image/png": "[encoded data removed]",
      "text/plain": [
       "<Figure size 432x288 with 1 Axes>"
      ]
     },
     "metadata": {
      "needs_background": "light"
     },
     "output_type": "display_data"
    }
   ],
   "source": [
    "sns.heatmap(confusion_mtx, annot=True, fmt=\"d\", xticklabels=target_names, yticklabels=target_names, cbar=False)\n",
    "plt.autoscale()"
   ]
  },
  {
   "cell_type": "code",
   "execution_count": 657,
   "metadata": {},
   "outputs": [],
   "source": [
    "from sklearn.utils.multiclass import unique_labels\n",
    "def plot_confusion_matrix(y_true, y_pred, classes,\n",
    "                          normalize=False,\n",
    "                          title=None,\n",
    "                          cmap=plt.cm.Blues):\n",
    "    \"\"\"\n",
    "    This function prints and plots the confusion matrix.\n",
    "    Normalization can be applied by setting `normalize=True`.\n",
    "    \"\"\"\n",
    "    if not title:\n",
    "        if normalize:\n",
    "            title = 'Normalized confusion matrix'\n",
    "        else:\n",
    "            title = 'Confusion matrix, without normalization'\n",
    "\n",
    "    # Compute confusion matrix\n",
    "    cm = confusion_matrix(y_true, y_pred)\n",
    "    # Only use the labels that appear in the data\n",
    "#     classes = classes[unique_labels(y_true, y_pred)]\n",
    "    if normalize:\n",
    "        cm = cm.astype('float') / cm.sum(axis=1)[:, np.newaxis]\n",
    "        print(\"Normalized confusion matrix\")\n",
    "    else:\n",
    "        print('Confusion matrix, without normalization')\n",
    "\n",
    "    print(cm)\n",
    "\n",
    "    fig, ax = plt.subplots()\n",
    "    im = ax.imshow(cm, interpolation='nearest', cmap=cmap)\n",
    "    ax.figure.colorbar(im, ax=ax)\n",
    "    # We want to show all ticks...\n",
    "    ax.set(xticks=np.arange(cm.shape[1]),\n",
    "           yticks=np.arange(cm.shape[0]),\n",
    "           # ... and label them with the respective list entries\n",
    "#            xticklabels=classes, yticklabels=classes,\n",
    "           title=title,\n",
    "           ylabel='True label',\n",
    "           xlabel='Predicted label')\n",
    "\n",
    "    # Rotate the tick labels and set their alignment.\n",
    "    plt.setp(ax.get_xticklabels(), rotation=45, ha=\"right\",\n",
    "             rotation_mode=\"anchor\")\n",
    "\n",
    "    # Loop over data dimensions and create text annotations.\n",
    "    fmt = '.2f' if normalize else 'd'\n",
    "    thresh = cm.max() / 2.\n",
    "    for i in range(cm.shape[0]):\n",
    "        for j in range(cm.shape[1]):\n",
    "            ax.text(j, i, format(cm[i, j], fmt),\n",
    "                    ha=\"center\", va=\"center\",\n",
    "                    color=\"white\" if cm[i, j] > thresh else \"black\")\n",
    "    fig.tight_layout()\n",
    "    return ax\n"
   ]
  },
  {
   "cell_type": "code",
   "execution_count": 658,
   "metadata": {},
   "outputs": [],
   "source": [
    "cm = confusion_matrix(Y_true, Y_pred_classes)"
   ]
  },
  {
   "cell_type": "code",
   "execution_count": 659,
   "metadata": {},
   "outputs": [
    {
     "data": {
      "text/plain": [
       "array([[431,  30,  10],\n",
       "       [ 14, 363,  13],\n",
       "       [  9,  15, 288]], dtype=int64)"
      ]
     },
     "execution_count": 659,
     "metadata": {},
     "output_type": "execute_result"
    }
   ],
   "source": [
    "cm"
   ]
  },
  {
   "cell_type": "code",
   "execution_count": 660,
   "metadata": {},
   "outputs": [
    {
     "name": "stdout",
     "output_type": "stream",
     "text": [
      "Confusion matrix, without normalization\n",
      "[[431  30  10]\n",
      " [ 14 363  13]\n",
      " [  9  15 288]]\n"
     ]
    },
    {
     "data": {
      "image/png": "[encoded data removed]",
      "text/plain": [
       "<Figure size 432x288 with 2 Axes>"
      ]
     },
     "metadata": {
      "needs_background": "light"
     },
     "output_type": "display_data"
    }
   ],
   "source": [
    "# Plot non-normalized confusion matrix\n",
    "plot_confusion_matrix(Y_true, Y_pred_classes, classes=target_names,\n",
    "                      title='Confusion matrix, without normalization')\n",
    "plt.autoscale()"
   ]
  },
  {
   "cell_type": "code",
   "execution_count": 661,
   "metadata": {},
   "outputs": [
    {
     "name": "stdout",
     "output_type": "stream",
     "text": [
      "Normalized confusion matrix\n",
      "[[0.91507431 0.06369427 0.02123142]\n",
      " [0.03589744 0.93076923 0.03333333]\n",
      " [0.02884615 0.04807692 0.92307692]]\n"
     ]
    },
    {
     "data": {
      "image/png": "[encoded data removed]",
      "text/plain": [
       "<Figure size 432x288 with 2 Axes>"
      ]
     },
     "metadata": {
      "needs_background": "light"
     },
     "output_type": "display_data"
    }
   ],
   "source": [
    "# Plot normalized confusion matrix\n",
    "plot_confusion_matrix(Y_true, Y_pred_classes, classes=target_names, normalize=True,\n",
    "                      title='Normalized confusion matrix')\n",
    "plt.autoscale()"
   ]
  },
  {
   "cell_type": "code",
   "execution_count": 662,
   "metadata": {},
   "outputs": [
    {
     "name": "stdout",
     "output_type": "stream",
     "text": [
      "F1 Score:  0.9220749718206843\n",
      "Precision Score:  0.9216967018261899\n",
      "Recall Score:  0.9229734879416408\n",
      "              precision    recall  f1-score   support\n",
      "\n",
      "      indoor     0.9493    0.9151    0.9319       471\n",
      "     outdoor     0.8897    0.9308    0.9098       390\n",
      "     vehicle     0.9260    0.9231    0.9246       312\n",
      "\n",
      "    accuracy                         0.9224      1173\n",
      "   macro avg     0.9217    0.9230    0.9221      1173\n",
      "weighted avg     0.9233    0.9224    0.9226      1173\n",
      "\n"
     ]
    }
   ],
   "source": [
    "print(\"F1 Score: \", f1_score(Y_true, Y_pred_classes, average=\"macro\"))\n",
    "print(\"Precision Score: \", precision_score(Y_true, Y_pred_classes, average=\"macro\"))\n",
    "print(\"Recall Score: \", recall_score(Y_true, Y_pred_classes, average=\"macro\"))\n",
    "print(classification_report(Y_true, Y_pred_classes, target_names=target_names, digits=4))"
   ]
  },
  {
   "cell_type": "markdown",
   "metadata": {},
   "source": [
    "# PCA plots"
   ]
  },
  {
   "cell_type": "code",
   "execution_count": 601,
   "metadata": {},
   "outputs": [],
   "source": [
    "new_model = load_model('DCASE_2017_mfccs_1D_k4.h5')\n",
    "new_model.save_weights('weights_same_filter.h5')\n",
    "new_model.load_weights('weights_same_filter.h5') "
   ]
  },
  {
   "cell_type": "code",
   "execution_count": 604,
   "metadata": {},
   "outputs": [
    {
     "name": "stdout",
     "output_type": "stream",
     "text": [
      "Model: \"sequential_3\"\n",
      "_________________________________________________________________\n",
      "Layer (type)                 Output Shape              Param #   \n",
      "=================================================================\n",
      "conv1d_7 (Conv1D)            (None, 25, 32)            96        \n",
      "_________________________________________________________________\n",
      "conv1d_8 (Conv1D)            (None, 24, 32)            2080      \n",
      "_________________________________________________________________\n",
      "max_pooling1d_5 (MaxPooling1 (None, 12, 32)            0         \n",
      "_________________________________________________________________\n",
      "conv1d_9 (Conv1D)            (None, 11, 32)            2080      \n",
      "_________________________________________________________________\n",
      "max_pooling1d_6 (MaxPooling1 (None, 5, 32)             0         \n",
      "_________________________________________________________________\n",
      "dropout_1 (Dropout)          (None, 5, 32)             0         \n",
      "_________________________________________________________________\n",
      "flatten_1 (Flatten)          (None, 160)               0         \n",
      "_________________________________________________________________\n",
      "output_layer (Dense)         (None, 3)                 483       \n",
      "=================================================================\n",
      "Total params: 4,739\n",
      "Trainable params: 4,739\n",
      "Non-trainable params: 0\n",
      "_________________________________________________________________\n"
     ]
    }
   ],
   "source": [
    "new_model.summary()"
   ]
  },
  {
   "cell_type": "code",
   "execution_count": 617,
   "metadata": {},
   "outputs": [],
   "source": [
    "auto_features = new_model.layers[5].output[0]"
   ]
  },
  {
   "cell_type": "code",
   "execution_count": 618,
   "metadata": {},
   "outputs": [
    {
     "data": {
      "text/plain": [
       "TensorShape([5, 32])"
      ]
     },
     "execution_count": 618,
     "metadata": {},
     "output_type": "execute_result"
    }
   ],
   "source": [
    "auto_features.shape"
   ]
  },
  {
   "cell_type": "code",
   "execution_count": 620,
   "metadata": {},
   "outputs": [
    {
     "name": "stdout",
     "output_type": "stream",
     "text": [
      "                                                  0   \\\n",
      "0  Tensor(\"strided_slice_171:0\", shape=(), dtype=...   \n",
      "1  Tensor(\"strided_slice_203:0\", shape=(), dtype=...   \n",
      "2  Tensor(\"strided_slice_235:0\", shape=(), dtype=...   \n",
      "3  Tensor(\"strided_slice_267:0\", shape=(), dtype=...   \n",
      "4  Tensor(\"strided_slice_299:0\", shape=(), dtype=...   \n",
      "\n",
      "                                                  1   \\\n",
      "0  Tensor(\"strided_slice_172:0\", shape=(), dtype=...   \n",
      "1  Tensor(\"strided_slice_204:0\", shape=(), dtype=...   \n",
      "2  Tensor(\"strided_slice_236:0\", shape=(), dtype=...   \n",
      "3  Tensor(\"strided_slice_268:0\", shape=(), dtype=...   \n",
      "4  Tensor(\"strided_slice_300:0\", shape=(), dtype=...   \n",
      "\n",
      "                                                  2   \\\n",
      "0  Tensor(\"strided_slice_173:0\", shape=(), dtype=...   \n",
      "1  Tensor(\"strided_slice_205:0\", shape=(), dtype=...   \n",
      "2  Tensor(\"strided_slice_237:0\", shape=(), dtype=...   \n",
      "3  Tensor(\"strided_slice_269:0\", shape=(), dtype=...   \n",
      "4  Tensor(\"strided_slice_301:0\", shape=(), dtype=...   \n",
      "\n",
      "                                                  3   \\\n",
      "0  Tensor(\"strided_slice_174:0\", shape=(), dtype=...   \n",
      "1  Tensor(\"strided_slice_206:0\", shape=(), dtype=...   \n",
      "2  Tensor(\"strided_slice_238:0\", shape=(), dtype=...   \n",
      "3  Tensor(\"strided_slice_270:0\", shape=(), dtype=...   \n",
      "4  Tensor(\"strided_slice_302:0\", shape=(), dtype=...   \n",
      "\n",
      "                                                  4   \\\n",
      "0  Tensor(\"strided_slice_175:0\", shape=(), dtype=...   \n",
      "1  Tensor(\"strided_slice_207:0\", shape=(), dtype=...   \n",
      "2  Tensor(\"strided_slice_239:0\", shape=(), dtype=...   \n",
      "3  Tensor(\"strided_slice_271:0\", shape=(), dtype=...   \n",
      "4  Tensor(\"strided_slice_303:0\", shape=(), dtype=...   \n",
      "\n",
      "                                                  5   \\\n",
      "0  Tensor(\"strided_slice_176:0\", shape=(), dtype=...   \n",
      "1  Tensor(\"strided_slice_208:0\", shape=(), dtype=...   \n",
      "2  Tensor(\"strided_slice_240:0\", shape=(), dtype=...   \n",
      "3  Tensor(\"strided_slice_272:0\", shape=(), dtype=...   \n",
      "4  Tensor(\"strided_slice_304:0\", shape=(), dtype=...   \n",
      "\n",
      "                                                  6   \\\n",
      "0  Tensor(\"strided_slice_177:0\", shape=(), dtype=...   \n",
      "1  Tensor(\"strided_slice_209:0\", shape=(), dtype=...   \n",
      "2  Tensor(\"strided_slice_241:0\", shape=(), dtype=...   \n",
      "3  Tensor(\"strided_slice_273:0\", shape=(), dtype=...   \n",
      "4  Tensor(\"strided_slice_305:0\", shape=(), dtype=...   \n",
      "\n",
      "                                                  7   \\\n",
      "0  Tensor(\"strided_slice_178:0\", shape=(), dtype=...   \n",
      "1  Tensor(\"strided_slice_210:0\", shape=(), dtype=...   \n",
      "2  Tensor(\"strided_slice_242:0\", shape=(), dtype=...   \n",
      "3  Tensor(\"strided_slice_274:0\", shape=(), dtype=...   \n",
      "4  Tensor(\"strided_slice_306:0\", shape=(), dtype=...   \n",
      "\n",
      "                                                  8   \\\n",
      "0  Tensor(\"strided_slice_179:0\", shape=(), dtype=...   \n",
      "1  Tensor(\"strided_slice_211:0\", shape=(), dtype=...   \n",
      "2  Tensor(\"strided_slice_243:0\", shape=(), dtype=...   \n",
      "3  Tensor(\"strided_slice_275:0\", shape=(), dtype=...   \n",
      "4  Tensor(\"strided_slice_307:0\", shape=(), dtype=...   \n",
      "\n",
      "                                                  9   ...  \\\n",
      "0  Tensor(\"strided_slice_180:0\", shape=(), dtype=...  ...   \n",
      "1  Tensor(\"strided_slice_212:0\", shape=(), dtype=...  ...   \n",
      "2  Tensor(\"strided_slice_244:0\", shape=(), dtype=...  ...   \n",
      "3  Tensor(\"strided_slice_276:0\", shape=(), dtype=...  ...   \n",
      "4  Tensor(\"strided_slice_308:0\", shape=(), dtype=...  ...   \n",
      "\n",
      "                                                  22  \\\n",
      "0  Tensor(\"strided_slice_193:0\", shape=(), dtype=...   \n",
      "1  Tensor(\"strided_slice_225:0\", shape=(), dtype=...   \n",
      "2  Tensor(\"strided_slice_257:0\", shape=(), dtype=...   \n",
      "3  Tensor(\"strided_slice_289:0\", shape=(), dtype=...   \n",
      "4  Tensor(\"strided_slice_321:0\", shape=(), dtype=...   \n",
      "\n",
      "                                                  23  \\\n",
      "0  Tensor(\"strided_slice_194:0\", shape=(), dtype=...   \n",
      "1  Tensor(\"strided_slice_226:0\", shape=(), dtype=...   \n",
      "2  Tensor(\"strided_slice_258:0\", shape=(), dtype=...   \n",
      "3  Tensor(\"strided_slice_290:0\", shape=(), dtype=...   \n",
      "4  Tensor(\"strided_slice_322:0\", shape=(), dtype=...   \n",
      "\n",
      "                                                  24  \\\n",
      "0  Tensor(\"strided_slice_195:0\", shape=(), dtype=...   \n",
      "1  Tensor(\"strided_slice_227:0\", shape=(), dtype=...   \n",
      "2  Tensor(\"strided_slice_259:0\", shape=(), dtype=...   \n",
      "3  Tensor(\"strided_slice_291:0\", shape=(), dtype=...   \n",
      "4  Tensor(\"strided_slice_323:0\", shape=(), dtype=...   \n",
      "\n",
      "                                                  25  \\\n",
      "0  Tensor(\"strided_slice_196:0\", shape=(), dtype=...   \n",
      "1  Tensor(\"strided_slice_228:0\", shape=(), dtype=...   \n",
      "2  Tensor(\"strided_slice_260:0\", shape=(), dtype=...   \n",
      "3  Tensor(\"strided_slice_292:0\", shape=(), dtype=...   \n",
      "4  Tensor(\"strided_slice_324:0\", shape=(), dtype=...   \n",
      "\n",
      "                                                  26  \\\n",
      "0  Tensor(\"strided_slice_197:0\", shape=(), dtype=...   \n",
      "1  Tensor(\"strided_slice_229:0\", shape=(), dtype=...   \n",
      "2  Tensor(\"strided_slice_261:0\", shape=(), dtype=...   \n",
      "3  Tensor(\"strided_slice_293:0\", shape=(), dtype=...   \n",
      "4  Tensor(\"strided_slice_325:0\", shape=(), dtype=...   \n",
      "\n",
      "                                                  27  \\\n",
      "0  Tensor(\"strided_slice_198:0\", shape=(), dtype=...   \n",
      "1  Tensor(\"strided_slice_230:0\", shape=(), dtype=...   \n",
      "2  Tensor(\"strided_slice_262:0\", shape=(), dtype=...   \n",
      "3  Tensor(\"strided_slice_294:0\", shape=(), dtype=...   \n",
      "4  Tensor(\"strided_slice_326:0\", shape=(), dtype=...   \n",
      "\n",
      "                                                  28  \\\n",
      "0  Tensor(\"strided_slice_199:0\", shape=(), dtype=...   \n",
      "1  Tensor(\"strided_slice_231:0\", shape=(), dtype=...   \n",
      "2  Tensor(\"strided_slice_263:0\", shape=(), dtype=...   \n",
      "3  Tensor(\"strided_slice_295:0\", shape=(), dtype=...   \n",
      "4  Tensor(\"strided_slice_327:0\", shape=(), dtype=...   \n",
      "\n",
      "                                                  29  \\\n",
      "0  Tensor(\"strided_slice_200:0\", shape=(), dtype=...   \n",
      "1  Tensor(\"strided_slice_232:0\", shape=(), dtype=...   \n",
      "2  Tensor(\"strided_slice_264:0\", shape=(), dtype=...   \n",
      "3  Tensor(\"strided_slice_296:0\", shape=(), dtype=...   \n",
      "4  Tensor(\"strided_slice_328:0\", shape=(), dtype=...   \n",
      "\n",
      "                                                  30  \\\n",
      "0  Tensor(\"strided_slice_201:0\", shape=(), dtype=...   \n",
      "1  Tensor(\"strided_slice_233:0\", shape=(), dtype=...   \n",
      "2  Tensor(\"strided_slice_265:0\", shape=(), dtype=...   \n",
      "3  Tensor(\"strided_slice_297:0\", shape=(), dtype=...   \n",
      "4  Tensor(\"strided_slice_329:0\", shape=(), dtype=...   \n",
      "\n",
      "                                                  31  \n",
      "0  Tensor(\"strided_slice_202:0\", shape=(), dtype=...  \n",
      "1  Tensor(\"strided_slice_234:0\", shape=(), dtype=...  \n",
      "2  Tensor(\"strided_slice_266:0\", shape=(), dtype=...  \n",
      "3  Tensor(\"strided_slice_298:0\", shape=(), dtype=...  \n",
      "4  Tensor(\"strided_slice_330:0\", shape=(), dtype=...  \n",
      "\n",
      "[5 rows x 32 columns]\n"
     ]
    }
   ],
   "source": [
    "auto_feats_df = pd.DataFrame(auto_features)\n",
    "print(auto_feats_df.head())\n",
    "auto_feats_df.to_csv('auto_train_features_same' + '.csv.gz',compression='gzip', index=False, header=None)"
   ]
  },
  {
   "cell_type": "code",
   "execution_count": null,
   "metadata": {},
   "outputs": [],
   "source": []
  },
  {
   "cell_type": "code",
   "execution_count": null,
   "metadata": {},
   "outputs": [],
   "source": []
  },
  {
   "cell_type": "code",
   "execution_count": 593,
   "metadata": {},
   "outputs": [],
   "source": [
    "X_val = X_val.reshape(X_val.shape[0], -1)"
   ]
  },
  {
   "cell_type": "code",
   "execution_count": 594,
   "metadata": {},
   "outputs": [
    {
     "data": {
      "text/plain": [
       "(1173, 26)"
      ]
     },
     "execution_count": 594,
     "metadata": {},
     "output_type": "execute_result"
    }
   ],
   "source": [
    "X_val.shape"
   ]
  },
  {
   "cell_type": "code",
   "execution_count": 595,
   "metadata": {},
   "outputs": [
    {
     "name": "stdout",
     "output_type": "stream",
     "text": [
      "Variance PCA: 0.8930440186734979\n"
     ]
    },
    {
     "data": {
      "image/png": "[encoded data removed]",
      "text/plain": [
       "<Figure size 432x288 with 2 Axes>"
      ]
     },
     "metadata": {
      "needs_background": "light"
     },
     "output_type": "display_data"
    }
   ],
   "source": [
    "pca = PCA(n_components=3)\n",
    " \n",
    "pca_result = pca.fit_transform(X_val)\n",
    "print('Variance PCA: {}'.format(np.sum(pca.explained_variance_ratio_)))\n",
    " \n",
    "Xax=pca_result[:,0]\n",
    "Yax=pca_result[:,1]\n",
    "Zax=pca_result[:,2]\n",
    " \n",
    "labels=['indoor', 'outdoor', 'vehicle']\n",
    " \n",
    "cdict={0:'blue', 1:'orange', 2:'green'}\n",
    "labl={0:'indoor', 1:'outdoor', 2:'vehicle'}\n",
    "marker={0:'*', 1:'o', 2:'+'}\n",
    "alpha={0:.3, 1:.5, 2:.7}\n",
    "y_val = np.argmax(y_val, axis = 1) \n",
    " \n",
    "fig, (ax1, ax2) = plt.subplots(1, 2)\n",
    "for g in np.unique(y_val):\n",
    "    ix = np.where(y_val == g)\n",
    "    ax1.scatter(Xax[ix], Yax[ix], c = cdict[g], label = labl[g], s = 10)\n",
    "    ax2.scatter(Xax[ix], Zax[ix], c = cdict[g], label = labl[g], s = 10)\n",
    "ax1.legend()\n",
    "ax2.legend()\n",
    "ax1.set_xlabel(\"First Principal Component\",fontsize=10)\n",
    "ax1.set_ylabel(\"Second Principal Component\",fontsize=10)\n",
    "ax2.set_xlabel(\"First Principal Component\",fontsize=10)\n",
    "ax2.set_ylabel(\"Third Principal Component\",fontsize=10)\n",
    "plt.tight_layout()"
   ]
  },
  {
   "cell_type": "code",
   "execution_count": 78,
   "metadata": {},
   "outputs": [
    {
     "name": "stdout",
     "output_type": "stream",
     "text": [
      "[t-SNE] Computing 121 nearest neighbors...\n",
      "[t-SNE] Indexed 1173 samples in 0.005s...\n",
      "[t-SNE] Computed neighbors for 1173 samples in 0.044s...\n",
      "[t-SNE] Computed conditional probabilities for sample 1000 / 1173\n",
      "[t-SNE] Computed conditional probabilities for sample 1173 / 1173\n",
      "[t-SNE] Mean sigma: 0.097139\n",
      "[t-SNE] KL divergence after 250 iterations with early exaggeration: 59.573429\n",
      "[t-SNE] KL divergence after 300 iterations: 0.592000\n",
      "t-SNE done! Time elapsed: 1.7486579418182373 seconds\n"
     ]
    }
   ],
   "source": [
    "time_start = time.time()\n",
    "tsne = TSNE(n_components=2, verbose=1, perplexity=40, n_iter=300)\n",
    "tsne_results = tsne.fit_transform(X_val)\n",
    "print('t-SNE done! Time elapsed: {} seconds'.format(time.time()-time_start))"
   ]
  },
  {
   "cell_type": "code",
   "execution_count": 88,
   "metadata": {},
   "outputs": [
    {
     "data": {
      "text/plain": [
       "<matplotlib.axes._subplots.AxesSubplot at 0x292fe134748>"
      ]
     },
     "execution_count": 88,
     "metadata": {},
     "output_type": "execute_result"
    },
    {
     "data": {
      "image/png": "[encoded data removed]",
      "text/plain": [
       "<Figure size 432x288 with 1 Axes>"
      ]
     },
     "metadata": {
      "needs_background": "light"
     },
     "output_type": "display_data"
    }
   ],
   "source": [
    "sns.scatterplot(X_val[:,0], X_val[:,1], legend='full')"
   ]
  },
  {
   "cell_type": "markdown",
   "metadata": {},
   "source": [
    "# 2D Convolution Parameters"
   ]
  },
  {
   "cell_type": "code",
   "execution_count": null,
   "metadata": {},
   "outputs": [],
   "source": [
    "NB_ROWS = 13     # corresponds to number of mfccs\n",
    "NB_COLS = 431    # correponds to the size of mfccs[i] (one mfcc)\n",
    "CHANNEL = 1      # the number of channels\n",
    " \n",
    "X_train = np.array(X_train)\n",
    "X_val = np.array(X_val)\n",
    " \n",
    "# Reshaping to perform 2D convolution\n",
    "X_train_2D_cnn = X_train.reshape(X_train.shape[0], NB_ROWS, NB_COLS, CHANNEL)\n",
    "X_test_2D_cnn = X_val.reshape(X_val.shape[0], NB_ROWS, NB_COLS, CHANNEL)\n",
    " \n",
    "y_train_2D_cnn_hot = y_train\n",
    "y_test_2D_cnn_hot = y_val\n",
    " \n",
    "print(\"[INFO] X_train_2D_cnn.shape = {}, y_train_2D_cnn_hot.shape = {} \".format(X_train_2D_cnn.shape, \n",
    "                                                                                y_train_2D_cnn_hot.shape))\n",
    "print(\"[INFO] X_test_2D_cnn.shape = {}, y_test_2D_cnn_hot.shape = {} \".format(X_test_2D_cnn.shape, \n",
    "                                                                              y_test_2D_cnn_hot.shape))\n",
    " \n",
    "# debug\n",
    "print(\"[DEBUG] y_train_2D_cnn_hot.shape = {}, y_train_2D_cnn_hot[0] = {}\".format(y_train_2D_cnn_hot.shape, \n",
    "                                                                                 y_train_2D_cnn_hot[0]))\n",
    "print(\"[DEBUG] y_test_2D_cnn_hot.shape = {}, y_test_2D_cnn_hot[0] = {}\".format(y_test_2D_cnn_hot.shape, \n",
    "                                                                               y_test_2D_cnn_hot[0]))"
   ]
  },
  {
   "cell_type": "code",
   "execution_count": null,
   "metadata": {},
   "outputs": [],
   "source": [
    "def construct_model(input_shape=(13, 431, 1), num_classes = 3):\n",
    "     \n",
    "    model = Sequential()\n",
    "    model.add(Conv2D(32, kernel_size=(2, 2), activation='relu', input_shape=input_shape))\n",
    "#     model.add(MaxPooling2D(pool_size=(2, 2)))\n",
    "    model.add(Conv2D(48, kernel_size=(2, 2), activation='relu'))\n",
    "    model.add(MaxPooling2D(pool_size=(2, 2)))\n",
    "    model.add(Conv2D(120, kernel_size=(2, 2), activation='relu'))\n",
    "    model.add(MaxPooling2D(pool_size=(2, 2)))\n",
    "#     model.add(Dropout(0.25))\n",
    "    model.add(Flatten())\n",
    "#     model.add(Dense(128, activation='relu'))\n",
    "#     model.add(Dropout(0.25))\n",
    "#     model.add(Dense(64, activation='relu'))\n",
    "#     model.add(Dropout(0.4))\n",
    "    model.add(Dense(num_classes, activation='softmax', name=\"output_layer\"))\n",
    "    model.compile(loss=keras.losses.categorical_crossentropy,\n",
    "                  optimizer=keras.optimizers.Adam(),\n",
    "                  metrics=['accuracy'])\n",
    "    model.summary()\n",
    "     \n",
    "    inp = model.input                                                               # input placeholder\n",
    "    outputs = [layer.output for layer in model.layers]                              # all layer outputs\n",
    "    functors = [K.function([inp, K.learning_phase()], [out]) for out in outputs]    # evaluation functions\n",
    "     \n",
    "    return model"
   ]
  },
  {
   "cell_type": "code",
   "execution_count": null,
   "metadata": {
    "scrolled": false
   },
   "outputs": [],
   "source": [
    "epochs = 100\n",
    "batch_size = 32\n",
    "verbose = 1\n",
    "num_classes = 3\n",
    "input_shape = (NB_ROWS, NB_COLS, CHANNEL)\n",
    " \n",
    "outputFolder = \"D:\\\\Extrasensory_Journal\"\n",
    " \n",
    "# Create the model and fit it\n",
    "start = time.time()\n",
    "model = construct_model(input_shape=input_shape, num_classes=num_classes)\n",
    "filepath = outputFolder + \"\\\\DCASE_2017-mfccs-weights.hdf5\"\n",
    "checkpoint = ModelCheckpoint(filepath, \n",
    "                             monitor='val_loss',\n",
    "                             verbose=verbose,\n",
    "                             save_best_only=True,\n",
    "                             save_weights_only=True, \n",
    "                             mode='auto')\n",
    " \n",
    "earlystop = EarlyStopping(monitor='val_loss', \n",
    "                          patience=7,\n",
    "                          verbose=verbose, \n",
    "                          mode='auto')\n",
    " \n",
    "callbacks_list = [checkpoint, earlystop]\n",
    "history = model.fit(X_train_2D_cnn, \n",
    "                    y_train_2D_cnn_hot, \n",
    "                    batch_size=batch_size, \n",
    "                    epochs=epochs,\n",
    "                    callbacks=callbacks_list,\n",
    "                    verbose=verbose, \n",
    "                    validation_data=(X_test_2D_cnn, y_test_2D_cnn_hot))\n",
    "end = time.time()\n",
    " \n",
    "print(\"[INFO] Model trained in {} ms\".format((end-start)))\n",
    "model.save('DCASE_2017_mfccs.h5')"
   ]
  },
  {
   "cell_type": "code",
   "execution_count": null,
   "metadata": {},
   "outputs": [],
   "source": [
    "# list all data in history\n",
    "print(history.history.keys())\n",
    "# summarize history for accuracy\n",
    "plt.figure(dpi=120)\n",
    "plt.plot(history.history['accuracy'])\n",
    "plt.plot(history.history['val_accuracy'])\n",
    "plt.title('model accuracy')\n",
    "plt.ylabel('accuracy')\n",
    "plt.xlabel('epoch')\n",
    "plt.legend(['train', 'validation'], loc='upper left')\n",
    "plt.show()\n",
    "# summarize history for loss\n",
    "plt.figure(dpi=120)\n",
    "plt.plot(history.history['loss'])\n",
    "plt.plot(history.history['val_loss'])\n",
    "plt.title('model loss')\n",
    "plt.ylabel('loss')\n",
    "plt.xlabel('epoch')\n",
    "plt.legend(['train', 'validation'], loc='upper left')\n",
    "plt.show()\n",
    "\n",
    " \n",
    "print(\"Training accuracy: %.2f%% / Validation accuracy: %.2f%%\" %\n",
    "      (100*history.history['accuracy'][-1], 100*history.history['val_accuracy'][-1]))"
   ]
  },
  {
   "cell_type": "markdown",
   "metadata": {},
   "source": [
    "# Extrasensory Dataset"
   ]
  },
  {
   "cell_type": "code",
   "execution_count": 663,
   "metadata": {},
   "outputs": [],
   "source": [
    "labels_dir = r\"D:\\Extrasensory_Journal\\labels\"\n",
    "total_files = glob.glob(labels_dir + \"\\\\\" + \"*.gz\")\n",
    "uuid_list = []\n",
    "for i in range(len(total_files)):\n",
    "    uuid = total_files[i][31:67]\n",
    "    uuid_list.append(uuid)\n",
    "    \n",
    "user_data_file = labels_dir + '\\\\' + '%s.features_labels.csv.gz' % uuid_list"
   ]
  },
  {
   "cell_type": "code",
   "execution_count": 664,
   "metadata": {},
   "outputs": [
    {
     "data": {
      "text/plain": [
       "\"D:\\\\Extrasensory_Journal\\\\labels\\\\['00EABED2-271D-49D8-B599-1D4A09240601', '098A72A5-E3E5-4F54-A152-BBDA0DF7B694', '0A986513-7828-4D53-AA1F-E02D6DF9561B', '0BFC35E2-4817-4865-BFA7-764742302A2D', '0E6184E1-90C0-48EE-B25A-F1ECB7B9714E', '1155FF54-63D3-4AB2-9863-8385D0BD0A13', '11B5EC4D-4133-4289-B475-4E737182A406', '136562B6-95B2-483D-88DC-065F28409FD2', '1538C99F-BA1E-4EFB-A949-6C7C47701B20', '1DBB0F6F-1F81-4A50-9DF4-CD62ACFA4842', '24E40C4C-A349-4F9F-93AB-01D00FB994AF', '27E04243-B138-4F40-A164-F40B60165CF3', '2C32C23E-E30C-498A-8DD2-0EFB9150A02E', '33A85C34-CFE4-4732-9E73-0A7AC861B27A', '3600D531-0C55-44A7-AE95-A7A38519464E', '40E170A7-607B-4578-AF04-F021C3B0384A', '481F4DD2-7689-43B9-A2AA-C8772227162B', '4E98F91F-4654-42EF-B908-A3389443F2E7', '4FC32141-E888-4BFF-8804-12559A491D8C', '5119D0F8-FCA8-4184-A4EB-19421A40DE0D', '5152A2DF-FAF3-4BA8-9CA9-E66B32671A53', '59818CD2-24D7-4D32-B133-24C2FE3801E5', '59EEFAE0-DEB0-4FFF-9250-54D2A03D0CF2', '5EF64122-B513-46AE-BCF1-E62AAC285D2C', '61359772-D8D8-480D-B623-7C636EAD0C81', '61976C24-1C50-4355-9C49-AAE44A7D09F6', '665514DE-49DC-421F-8DCB-145D0B2609AD', '74B86067-5D4B-43CF-82CF-341B76BEA0F4', '78A91A4E-4A51-4065-BDA7-94755F0BB3BB', '797D145F-3858-4A7F-A7C2-A4EB721E133C', '7CE37510-56D0-4120-A1CF-0E23351428D2', '7D9BB102-A612-4E2A-8E22-3159752F55D8', '8023FE1A-D3B0-4E2C-A57A-9321B7FC755F', '806289BC-AD52-4CC1-806C-0CDB14D65EB6', '81536B0A-8DBF-4D8A-AC24-9543E2E4C8E0', '83CF687B-7CEC-434B-9FE8-00C3D5799BE6', '86A4F379-B305-473D-9D83-FC7D800180EF', '96A358A0-FFF2-4239-B93E-C7425B901B47', '9759096F-1119-4E19-A0AD-6F16989C7E1C', '99B204C0-DD5C-4BB7-83E8-A37281B8D769', '9DC38D04-E82E-4F29-AB52-B476535226F2', 'A5A30F76-581E-4757-97A2-957553A2C6AA', 'A5CDF89D-02A2-4EC1-89F8-F534FDABDD96', 'A7599A50-24AE-46A6-8EA6-2576F1011D81', 'A76A5AF5-5A93-4CF2-A16E-62353BB70E8A', 'B09E373F-8A54-44C8-895B-0039390B859F', 'B7F9D634-263E-4A97-87F9-6FFB4DDCB36C', 'B9724848-C7E2-45F4-9B3F-A1F38D864495', 'BE3CA5A6-A561-4BBD-B7C9-5DF6805400FC', 'BEF6C611-50DA-4971-A040-87FB979F3FC1', 'C48CE857-A0DD-4DDB-BEA5-3A25449B2153', 'CA820D43-E5E2-42EF-9798-BE56F776370B', 'CCAF77F0-FABB-4F2F-9E24-D56AD0C5A82F', 'CDA3BBF7-6631-45E8-85BA-EEB416B32A3C', 'CF722AA9-2533-4E51-9FEB-9EAC84EE9AAC', 'D7D20E2E-FC78-405D-B346-DBD3FD8FC92B', 'E65577C1-8D5D-4F70-AF23-B3ADB9D3DBA3', 'ECECC2AB-D32F-4F90-B74C-E12A1C69BBE2', 'F50235E0-DD67-4F2A-B00B-1F31ADA998B9', 'FDAA70A1-42A3-4E3F-9AE3-3FDA412E03BF'].features_labels.csv.gz\""
      ]
     },
     "execution_count": 664,
     "metadata": {},
     "output_type": "execute_result"
    }
   ],
   "source": [
    "user_data_file"
   ]
  },
  {
   "cell_type": "code",
   "execution_count": 665,
   "metadata": {},
   "outputs": [],
   "source": [
    "file_names = os.listdir(labels_dir + '\\\\')\n",
    "user_ids = [fn.split(\".\")[0] for fn in file_names]"
   ]
  },
  {
   "cell_type": "code",
   "execution_count": 666,
   "metadata": {
    "scrolled": true
   },
   "outputs": [
    {
     "data": {
      "text/plain": [
       "['00EABED2-271D-49D8-B599-1D4A09240601',\n",
       " '098A72A5-E3E5-4F54-A152-BBDA0DF7B694',\n",
       " '0A986513-7828-4D53-AA1F-E02D6DF9561B',\n",
       " '0BFC35E2-4817-4865-BFA7-764742302A2D',\n",
       " '0E6184E1-90C0-48EE-B25A-F1ECB7B9714E',\n",
       " '1155FF54-63D3-4AB2-9863-8385D0BD0A13',\n",
       " '11B5EC4D-4133-4289-B475-4E737182A406',\n",
       " '136562B6-95B2-483D-88DC-065F28409FD2',\n",
       " '1538C99F-BA1E-4EFB-A949-6C7C47701B20',\n",
       " '1DBB0F6F-1F81-4A50-9DF4-CD62ACFA4842',\n",
       " '24E40C4C-A349-4F9F-93AB-01D00FB994AF',\n",
       " '27E04243-B138-4F40-A164-F40B60165CF3',\n",
       " '2C32C23E-E30C-498A-8DD2-0EFB9150A02E',\n",
       " '33A85C34-CFE4-4732-9E73-0A7AC861B27A',\n",
       " '3600D531-0C55-44A7-AE95-A7A38519464E',\n",
       " '40E170A7-607B-4578-AF04-F021C3B0384A',\n",
       " '481F4DD2-7689-43B9-A2AA-C8772227162B',\n",
       " '4E98F91F-4654-42EF-B908-A3389443F2E7',\n",
       " '4FC32141-E888-4BFF-8804-12559A491D8C',\n",
       " '5119D0F8-FCA8-4184-A4EB-19421A40DE0D',\n",
       " '5152A2DF-FAF3-4BA8-9CA9-E66B32671A53',\n",
       " '59818CD2-24D7-4D32-B133-24C2FE3801E5',\n",
       " '59EEFAE0-DEB0-4FFF-9250-54D2A03D0CF2',\n",
       " '5EF64122-B513-46AE-BCF1-E62AAC285D2C',\n",
       " '61359772-D8D8-480D-B623-7C636EAD0C81',\n",
       " '61976C24-1C50-4355-9C49-AAE44A7D09F6',\n",
       " '665514DE-49DC-421F-8DCB-145D0B2609AD',\n",
       " '74B86067-5D4B-43CF-82CF-341B76BEA0F4',\n",
       " '78A91A4E-4A51-4065-BDA7-94755F0BB3BB',\n",
       " '797D145F-3858-4A7F-A7C2-A4EB721E133C',\n",
       " '7CE37510-56D0-4120-A1CF-0E23351428D2',\n",
       " '7D9BB102-A612-4E2A-8E22-3159752F55D8',\n",
       " '8023FE1A-D3B0-4E2C-A57A-9321B7FC755F',\n",
       " '806289BC-AD52-4CC1-806C-0CDB14D65EB6',\n",
       " '81536B0A-8DBF-4D8A-AC24-9543E2E4C8E0',\n",
       " '83CF687B-7CEC-434B-9FE8-00C3D5799BE6',\n",
       " '86A4F379-B305-473D-9D83-FC7D800180EF',\n",
       " '96A358A0-FFF2-4239-B93E-C7425B901B47',\n",
       " '9759096F-1119-4E19-A0AD-6F16989C7E1C',\n",
       " '99B204C0-DD5C-4BB7-83E8-A37281B8D769',\n",
       " '9DC38D04-E82E-4F29-AB52-B476535226F2',\n",
       " 'A5A30F76-581E-4757-97A2-957553A2C6AA',\n",
       " 'A5CDF89D-02A2-4EC1-89F8-F534FDABDD96',\n",
       " 'A7599A50-24AE-46A6-8EA6-2576F1011D81',\n",
       " 'A76A5AF5-5A93-4CF2-A16E-62353BB70E8A',\n",
       " 'B09E373F-8A54-44C8-895B-0039390B859F',\n",
       " 'B7F9D634-263E-4A97-87F9-6FFB4DDCB36C',\n",
       " 'B9724848-C7E2-45F4-9B3F-A1F38D864495',\n",
       " 'BE3CA5A6-A561-4BBD-B7C9-5DF6805400FC',\n",
       " 'BEF6C611-50DA-4971-A040-87FB979F3FC1',\n",
       " 'C48CE857-A0DD-4DDB-BEA5-3A25449B2153',\n",
       " 'CA820D43-E5E2-42EF-9798-BE56F776370B',\n",
       " 'CCAF77F0-FABB-4F2F-9E24-D56AD0C5A82F',\n",
       " 'CDA3BBF7-6631-45E8-85BA-EEB416B32A3C',\n",
       " 'CF722AA9-2533-4E51-9FEB-9EAC84EE9AAC',\n",
       " 'D7D20E2E-FC78-405D-B346-DBD3FD8FC92B',\n",
       " 'E65577C1-8D5D-4F70-AF23-B3ADB9D3DBA3',\n",
       " 'ECECC2AB-D32F-4F90-B74C-E12A1C69BBE2',\n",
       " 'F50235E0-DD67-4F2A-B00B-1F31ADA998B9',\n",
       " 'FDAA70A1-42A3-4E3F-9AE3-3FDA412E03BF']"
      ]
     },
     "execution_count": 666,
     "metadata": {},
     "output_type": "execute_result"
    }
   ],
   "source": [
    "user_ids"
   ]
  },
  {
   "cell_type": "code",
   "execution_count": 667,
   "metadata": {},
   "outputs": [],
   "source": [
    "activity_labels_name = ['label:BICYCLING', 'label:SLEEPING', 'label:LAB_WORK',\n",
    "                        'label:IN_CLASS', 'label:IN_A_MEETING', 'label:LOC_main_workplace',\n",
    "                        'label:OR_indoors', 'label:OR_outside', 'label:IN_A_CAR',\n",
    "                        'label:ON_A_BUS', 'label:DRIVE_-_I_M_THE_DRIVER',\n",
    "                        'label:DRIVE_-_I_M_A_PASSENGER', 'label:LOC_home',\n",
    "                        'label:FIX_restaurant', 'label:COOKING', 'label:SHOPPING',\n",
    "                        'label:BATHING_-_SHOWER', 'label:CLEANING', 'label:DOING_LAUNDRY',\n",
    "                        'label:WASHING_DISHES', 'label:WATCHING_TV',\n",
    "                        'label:SURFING_THE_INTERNET', 'label:AT_A_PARTY', 'label:AT_A_BAR',\n",
    "                        'label:LOC_beach', 'label:COMPUTER_WORK', 'label:EATING', 'label:TOILET',\n",
    "                        'label:AT_THE_GYM', 'label:ELEVATOR', 'label:AT_SCHOOL']"
   ]
  },
  {
   "cell_type": "code",
   "execution_count": 668,
   "metadata": {},
   "outputs": [],
   "source": [
    "def clean_labels(labels_df):\n",
    "    labels = []\n",
    "    for ind, row in labels_df.iterrows():\n",
    "        max_label = np.argmax(row)\n",
    "        if np.isnan(np.max(row)):\n",
    "            label = max_label\n",
    "        else:\n",
    "            if \":\" in max_label:\n",
    "                label = max_label.split(\":\")[1]\n",
    "            else:\n",
    "                label=max_label\n",
    "        labels.append(label)\n",
    "    return pd.Series(labels)"
   ]
  },
  {
   "cell_type": "code",
   "execution_count": 669,
   "metadata": {},
   "outputs": [
    {
     "data": {
      "application/vnd.jupyter.widget-view+json": {
       "model_id": "6adf0ce69efe453eb72015e765c3e8ab",
       "version_major": 2,
       "version_minor": 0
      },
      "text/plain": [
       "HBox(children=(IntProgress(value=0, max=60), HTML(value='')))"
      ]
     },
     "metadata": {},
     "output_type": "display_data"
    },
    {
     "name": "stderr",
     "output_type": "stream",
     "text": [
      "c:\\anaconda3\\envs\\audio\\lib\\site-packages\\numpy\\core\\fromnumeric.py:61: FutureWarning: \n",
      "The current behaviour of 'Series.argmax' is deprecated, use 'idxmax'\n",
      "instead.\n",
      "The behavior of 'argmax' will be corrected to return the positional\n",
      "maximum in the future. For now, use 'series.values.argmax' or\n",
      "'np.argmax(np.array(values))' to get the position of the maximum\n",
      "row.\n",
      "  return bound(*args, **kwds)\n"
     ]
    },
    {
     "name": "stdout",
     "output_type": "stream",
     "text": [
      "\n"
     ]
    }
   ],
   "source": [
    "total_files = []\n",
    "\n",
    "for i in tqdm(range(len(user_ids))):\n",
    "    with gzip.open(labels_dir + '\\\\' + '%s.features_labels.csv.gz' % uuid_list[i], 'rb') as fid:\n",
    "        csv_str = fid.read()\n",
    "        csv_str = csv_str.decode(\"utf-8\")\n",
    "        df = pd.read_csv(StringIO(csv_str), sep=\",\")\n",
    "        aud_col_name = [col for col in df.columns if \"audio_naive\" in col]\n",
    "        label_col_name = [col for col in df.columns if \"label\" in col]\n",
    "        aud_features_df = df[df.columns.intersection(aud_col_name)]\n",
    "        aud_labels_df = df[df.columns.intersection(activity_labels_name)]\n",
    "        null_ind = []\n",
    "        for ind, row in aud_features_df.iterrows():\n",
    "            if row.isnull().sum() > 0:\n",
    "                null_ind.append(ind)\n",
    "        aud_features_df.drop(aud_features_df.index[null_ind])\n",
    "        features_df = df[df.columns.intersection(aud_col_name)]\n",
    "        labels_df = clean_labels(df[df.columns.intersection(activity_labels_name)])\n",
    "        user_df = pd.concat((features_df, labels_df), axis=1)\n",
    "        user_df = user_df.rename(columns={0:'label'})\n",
    "        user_df = user_df.dropna(subset=aud_col_name)\n",
    "    total_files.append(user_df)"
   ]
  },
  {
   "cell_type": "code",
   "execution_count": 670,
   "metadata": {},
   "outputs": [
    {
     "data": {
      "text/plain": [
       "60"
      ]
     },
     "execution_count": 670,
     "metadata": {},
     "output_type": "execute_result"
    }
   ],
   "source": [
    "len(total_files)"
   ]
  },
  {
   "cell_type": "code",
   "execution_count": 671,
   "metadata": {},
   "outputs": [
    {
     "data": {
      "text/html": [
       "<div>\n",
       "<style scoped>\n",
       "    .dataframe tbody tr th:only-of-type {\n",
       "        vertical-align: middle;\n",
       "    }\n",
       "\n",
       "    .dataframe tbody tr th {\n",
       "        vertical-align: top;\n",
       "    }\n",
       "\n",
       "    .dataframe thead th {\n",
       "        text-align: right;\n",
       "    }\n",
       "</style>\n",
       "<table border=\"1\" class=\"dataframe\">\n",
       "  <thead>\n",
       "    <tr style=\"text-align: right;\">\n",
       "      <th></th>\n",
       "      <th>audio_naive:mfcc0:mean</th>\n",
       "      <th>audio_naive:mfcc1:mean</th>\n",
       "      <th>audio_naive:mfcc2:mean</th>\n",
       "      <th>audio_naive:mfcc3:mean</th>\n",
       "      <th>audio_naive:mfcc4:mean</th>\n",
       "      <th>audio_naive:mfcc5:mean</th>\n",
       "      <th>audio_naive:mfcc6:mean</th>\n",
       "      <th>audio_naive:mfcc7:mean</th>\n",
       "      <th>audio_naive:mfcc8:mean</th>\n",
       "      <th>audio_naive:mfcc9:mean</th>\n",
       "      <th>...</th>\n",
       "      <th>audio_naive:mfcc4:std</th>\n",
       "      <th>audio_naive:mfcc5:std</th>\n",
       "      <th>audio_naive:mfcc6:std</th>\n",
       "      <th>audio_naive:mfcc7:std</th>\n",
       "      <th>audio_naive:mfcc8:std</th>\n",
       "      <th>audio_naive:mfcc9:std</th>\n",
       "      <th>audio_naive:mfcc10:std</th>\n",
       "      <th>audio_naive:mfcc11:std</th>\n",
       "      <th>audio_naive:mfcc12:std</th>\n",
       "      <th>label</th>\n",
       "    </tr>\n",
       "  </thead>\n",
       "  <tbody>\n",
       "    <tr>\n",
       "      <td>0</td>\n",
       "      <td>-7.493934</td>\n",
       "      <td>1.132357</td>\n",
       "      <td>-1.481641</td>\n",
       "      <td>-0.609155</td>\n",
       "      <td>-1.884579</td>\n",
       "      <td>-0.723755</td>\n",
       "      <td>-1.509845</td>\n",
       "      <td>-1.296577</td>\n",
       "      <td>-1.031879</td>\n",
       "      <td>-0.858312</td>\n",
       "      <td>...</td>\n",
       "      <td>0.510382</td>\n",
       "      <td>0.555430</td>\n",
       "      <td>0.523345</td>\n",
       "      <td>0.568588</td>\n",
       "      <td>0.511616</td>\n",
       "      <td>0.427119</td>\n",
       "      <td>0.396342</td>\n",
       "      <td>0.345990</td>\n",
       "      <td>0.363974</td>\n",
       "      <td>LOC_main_workplace</td>\n",
       "    </tr>\n",
       "    <tr>\n",
       "      <td>1</td>\n",
       "      <td>-16.644125</td>\n",
       "      <td>1.127306</td>\n",
       "      <td>-1.613793</td>\n",
       "      <td>0.073209</td>\n",
       "      <td>-2.379395</td>\n",
       "      <td>-1.240171</td>\n",
       "      <td>-1.452657</td>\n",
       "      <td>-0.779496</td>\n",
       "      <td>-1.188198</td>\n",
       "      <td>-1.024485</td>\n",
       "      <td>...</td>\n",
       "      <td>0.805336</td>\n",
       "      <td>0.610477</td>\n",
       "      <td>0.524813</td>\n",
       "      <td>0.449804</td>\n",
       "      <td>0.424010</td>\n",
       "      <td>0.412729</td>\n",
       "      <td>0.382305</td>\n",
       "      <td>0.412478</td>\n",
       "      <td>0.391811</td>\n",
       "      <td>LOC_main_workplace</td>\n",
       "    </tr>\n",
       "    <tr>\n",
       "      <td>2</td>\n",
       "      <td>-10.983519</td>\n",
       "      <td>0.698184</td>\n",
       "      <td>-2.333403</td>\n",
       "      <td>0.180645</td>\n",
       "      <td>-2.180235</td>\n",
       "      <td>-1.605858</td>\n",
       "      <td>-1.543334</td>\n",
       "      <td>-0.740051</td>\n",
       "      <td>-1.115495</td>\n",
       "      <td>-1.324189</td>\n",
       "      <td>...</td>\n",
       "      <td>0.901649</td>\n",
       "      <td>0.784975</td>\n",
       "      <td>0.611697</td>\n",
       "      <td>0.608474</td>\n",
       "      <td>0.548679</td>\n",
       "      <td>0.505119</td>\n",
       "      <td>0.442274</td>\n",
       "      <td>0.508377</td>\n",
       "      <td>0.427276</td>\n",
       "      <td>LOC_main_workplace</td>\n",
       "    </tr>\n",
       "    <tr>\n",
       "      <td>3</td>\n",
       "      <td>-6.551388</td>\n",
       "      <td>0.923646</td>\n",
       "      <td>-1.788636</td>\n",
       "      <td>-0.164324</td>\n",
       "      <td>-1.670335</td>\n",
       "      <td>-0.877576</td>\n",
       "      <td>-1.756758</td>\n",
       "      <td>-1.075317</td>\n",
       "      <td>-0.915945</td>\n",
       "      <td>-0.787203</td>\n",
       "      <td>...</td>\n",
       "      <td>0.489812</td>\n",
       "      <td>0.500648</td>\n",
       "      <td>0.415977</td>\n",
       "      <td>0.365358</td>\n",
       "      <td>0.435269</td>\n",
       "      <td>0.375630</td>\n",
       "      <td>0.324262</td>\n",
       "      <td>0.377912</td>\n",
       "      <td>0.429580</td>\n",
       "      <td>LOC_main_workplace</td>\n",
       "    </tr>\n",
       "    <tr>\n",
       "      <td>4</td>\n",
       "      <td>-9.963111</td>\n",
       "      <td>0.816774</td>\n",
       "      <td>-2.582453</td>\n",
       "      <td>-0.067254</td>\n",
       "      <td>-1.856917</td>\n",
       "      <td>-1.877418</td>\n",
       "      <td>-1.070526</td>\n",
       "      <td>-1.074659</td>\n",
       "      <td>-1.153333</td>\n",
       "      <td>-0.587026</td>\n",
       "      <td>...</td>\n",
       "      <td>0.908778</td>\n",
       "      <td>0.928819</td>\n",
       "      <td>0.705012</td>\n",
       "      <td>0.524026</td>\n",
       "      <td>0.433654</td>\n",
       "      <td>0.496789</td>\n",
       "      <td>0.481470</td>\n",
       "      <td>0.551463</td>\n",
       "      <td>0.463331</td>\n",
       "      <td>LOC_main_workplace</td>\n",
       "    </tr>\n",
       "    <tr>\n",
       "      <td>...</td>\n",
       "      <td>...</td>\n",
       "      <td>...</td>\n",
       "      <td>...</td>\n",
       "      <td>...</td>\n",
       "      <td>...</td>\n",
       "      <td>...</td>\n",
       "      <td>...</td>\n",
       "      <td>...</td>\n",
       "      <td>...</td>\n",
       "      <td>...</td>\n",
       "      <td>...</td>\n",
       "      <td>...</td>\n",
       "      <td>...</td>\n",
       "      <td>...</td>\n",
       "      <td>...</td>\n",
       "      <td>...</td>\n",
       "      <td>...</td>\n",
       "      <td>...</td>\n",
       "      <td>...</td>\n",
       "      <td>...</td>\n",
       "      <td>...</td>\n",
       "    </tr>\n",
       "    <tr>\n",
       "      <td>8511</td>\n",
       "      <td>-13.116293</td>\n",
       "      <td>-0.914629</td>\n",
       "      <td>-2.665949</td>\n",
       "      <td>-0.780978</td>\n",
       "      <td>-1.573263</td>\n",
       "      <td>-0.769585</td>\n",
       "      <td>-1.078831</td>\n",
       "      <td>-0.759488</td>\n",
       "      <td>-0.977628</td>\n",
       "      <td>-0.577545</td>\n",
       "      <td>...</td>\n",
       "      <td>0.335592</td>\n",
       "      <td>0.342954</td>\n",
       "      <td>0.298590</td>\n",
       "      <td>0.286581</td>\n",
       "      <td>0.237058</td>\n",
       "      <td>0.202900</td>\n",
       "      <td>0.234110</td>\n",
       "      <td>0.211452</td>\n",
       "      <td>0.217197</td>\n",
       "      <td>LOC_main_workplace</td>\n",
       "    </tr>\n",
       "    <tr>\n",
       "      <td>8512</td>\n",
       "      <td>-18.667990</td>\n",
       "      <td>0.203154</td>\n",
       "      <td>-2.600906</td>\n",
       "      <td>-1.090961</td>\n",
       "      <td>-1.906121</td>\n",
       "      <td>-0.846700</td>\n",
       "      <td>-1.244847</td>\n",
       "      <td>-0.997262</td>\n",
       "      <td>-0.928192</td>\n",
       "      <td>-0.690187</td>\n",
       "      <td>...</td>\n",
       "      <td>0.568241</td>\n",
       "      <td>0.580355</td>\n",
       "      <td>0.399977</td>\n",
       "      <td>0.423955</td>\n",
       "      <td>0.357605</td>\n",
       "      <td>0.370175</td>\n",
       "      <td>0.346245</td>\n",
       "      <td>0.303912</td>\n",
       "      <td>0.313538</td>\n",
       "      <td>LOC_main_workplace</td>\n",
       "    </tr>\n",
       "    <tr>\n",
       "      <td>8513</td>\n",
       "      <td>-14.759271</td>\n",
       "      <td>-1.505725</td>\n",
       "      <td>-2.646897</td>\n",
       "      <td>-0.574547</td>\n",
       "      <td>-1.405688</td>\n",
       "      <td>-0.630806</td>\n",
       "      <td>-1.301339</td>\n",
       "      <td>-0.867155</td>\n",
       "      <td>-1.066245</td>\n",
       "      <td>-0.600430</td>\n",
       "      <td>...</td>\n",
       "      <td>0.482124</td>\n",
       "      <td>0.438928</td>\n",
       "      <td>0.357717</td>\n",
       "      <td>0.292932</td>\n",
       "      <td>0.288334</td>\n",
       "      <td>0.247215</td>\n",
       "      <td>0.249159</td>\n",
       "      <td>0.222117</td>\n",
       "      <td>0.233041</td>\n",
       "      <td>LOC_main_workplace</td>\n",
       "    </tr>\n",
       "    <tr>\n",
       "      <td>8514</td>\n",
       "      <td>-9.185555</td>\n",
       "      <td>1.311587</td>\n",
       "      <td>-1.879049</td>\n",
       "      <td>-0.185477</td>\n",
       "      <td>-1.001206</td>\n",
       "      <td>-0.458974</td>\n",
       "      <td>-0.892135</td>\n",
       "      <td>-0.551578</td>\n",
       "      <td>-0.792127</td>\n",
       "      <td>-0.534134</td>\n",
       "      <td>...</td>\n",
       "      <td>0.395325</td>\n",
       "      <td>0.349274</td>\n",
       "      <td>0.312004</td>\n",
       "      <td>0.260925</td>\n",
       "      <td>0.242496</td>\n",
       "      <td>0.229507</td>\n",
       "      <td>0.209279</td>\n",
       "      <td>0.204197</td>\n",
       "      <td>0.204898</td>\n",
       "      <td>LOC_main_workplace</td>\n",
       "    </tr>\n",
       "    <tr>\n",
       "      <td>8515</td>\n",
       "      <td>-12.676318</td>\n",
       "      <td>-1.832196</td>\n",
       "      <td>-1.954997</td>\n",
       "      <td>-0.464471</td>\n",
       "      <td>-1.457519</td>\n",
       "      <td>-0.829215</td>\n",
       "      <td>-1.540531</td>\n",
       "      <td>-0.535524</td>\n",
       "      <td>-1.072304</td>\n",
       "      <td>-0.418318</td>\n",
       "      <td>...</td>\n",
       "      <td>0.540397</td>\n",
       "      <td>0.567016</td>\n",
       "      <td>0.484928</td>\n",
       "      <td>0.435421</td>\n",
       "      <td>0.415278</td>\n",
       "      <td>0.342390</td>\n",
       "      <td>0.299746</td>\n",
       "      <td>0.288996</td>\n",
       "      <td>0.248900</td>\n",
       "      <td>LOC_main_workplace</td>\n",
       "    </tr>\n",
       "  </tbody>\n",
       "</table>\n",
       "<p>8120 rows × 27 columns</p>\n",
       "</div>"
      ],
      "text/plain": [
       "      audio_naive:mfcc0:mean  audio_naive:mfcc1:mean  audio_naive:mfcc2:mean  \\\n",
       "0                  -7.493934                1.132357               -1.481641   \n",
       "1                 -16.644125                1.127306               -1.613793   \n",
       "2                 -10.983519                0.698184               -2.333403   \n",
       "3                  -6.551388                0.923646               -1.788636   \n",
       "4                  -9.963111                0.816774               -2.582453   \n",
       "...                      ...                     ...                     ...   \n",
       "8511              -13.116293               -0.914629               -2.665949   \n",
       "8512              -18.667990                0.203154               -2.600906   \n",
       "8513              -14.759271               -1.505725               -2.646897   \n",
       "8514               -9.185555                1.311587               -1.879049   \n",
       "8515              -12.676318               -1.832196               -1.954997   \n",
       "\n",
       "      audio_naive:mfcc3:mean  audio_naive:mfcc4:mean  audio_naive:mfcc5:mean  \\\n",
       "0                  -0.609155               -1.884579               -0.723755   \n",
       "1                   0.073209               -2.379395               -1.240171   \n",
       "2                   0.180645               -2.180235               -1.605858   \n",
       "3                  -0.164324               -1.670335               -0.877576   \n",
       "4                  -0.067254               -1.856917               -1.877418   \n",
       "...                      ...                     ...                     ...   \n",
       "8511               -0.780978               -1.573263               -0.769585   \n",
       "8512               -1.090961               -1.906121               -0.846700   \n",
       "8513               -0.574547               -1.405688               -0.630806   \n",
       "8514               -0.185477               -1.001206               -0.458974   \n",
       "8515               -0.464471               -1.457519               -0.829215   \n",
       "\n",
       "      audio_naive:mfcc6:mean  audio_naive:mfcc7:mean  audio_naive:mfcc8:mean  \\\n",
       "0                  -1.509845               -1.296577               -1.031879   \n",
       "1                  -1.452657               -0.779496               -1.188198   \n",
       "2                  -1.543334               -0.740051               -1.115495   \n",
       "3                  -1.756758               -1.075317               -0.915945   \n",
       "4                  -1.070526               -1.074659               -1.153333   \n",
       "...                      ...                     ...                     ...   \n",
       "8511               -1.078831               -0.759488               -0.977628   \n",
       "8512               -1.244847               -0.997262               -0.928192   \n",
       "8513               -1.301339               -0.867155               -1.066245   \n",
       "8514               -0.892135               -0.551578               -0.792127   \n",
       "8515               -1.540531               -0.535524               -1.072304   \n",
       "\n",
       "      audio_naive:mfcc9:mean  ...  audio_naive:mfcc4:std  \\\n",
       "0                  -0.858312  ...               0.510382   \n",
       "1                  -1.024485  ...               0.805336   \n",
       "2                  -1.324189  ...               0.901649   \n",
       "3                  -0.787203  ...               0.489812   \n",
       "4                  -0.587026  ...               0.908778   \n",
       "...                      ...  ...                    ...   \n",
       "8511               -0.577545  ...               0.335592   \n",
       "8512               -0.690187  ...               0.568241   \n",
       "8513               -0.600430  ...               0.482124   \n",
       "8514               -0.534134  ...               0.395325   \n",
       "8515               -0.418318  ...               0.540397   \n",
       "\n",
       "      audio_naive:mfcc5:std  audio_naive:mfcc6:std  audio_naive:mfcc7:std  \\\n",
       "0                  0.555430               0.523345               0.568588   \n",
       "1                  0.610477               0.524813               0.449804   \n",
       "2                  0.784975               0.611697               0.608474   \n",
       "3                  0.500648               0.415977               0.365358   \n",
       "4                  0.928819               0.705012               0.524026   \n",
       "...                     ...                    ...                    ...   \n",
       "8511               0.342954               0.298590               0.286581   \n",
       "8512               0.580355               0.399977               0.423955   \n",
       "8513               0.438928               0.357717               0.292932   \n",
       "8514               0.349274               0.312004               0.260925   \n",
       "8515               0.567016               0.484928               0.435421   \n",
       "\n",
       "      audio_naive:mfcc8:std  audio_naive:mfcc9:std  audio_naive:mfcc10:std  \\\n",
       "0                  0.511616               0.427119                0.396342   \n",
       "1                  0.424010               0.412729                0.382305   \n",
       "2                  0.548679               0.505119                0.442274   \n",
       "3                  0.435269               0.375630                0.324262   \n",
       "4                  0.433654               0.496789                0.481470   \n",
       "...                     ...                    ...                     ...   \n",
       "8511               0.237058               0.202900                0.234110   \n",
       "8512               0.357605               0.370175                0.346245   \n",
       "8513               0.288334               0.247215                0.249159   \n",
       "8514               0.242496               0.229507                0.209279   \n",
       "8515               0.415278               0.342390                0.299746   \n",
       "\n",
       "      audio_naive:mfcc11:std  audio_naive:mfcc12:std               label  \n",
       "0                   0.345990                0.363974  LOC_main_workplace  \n",
       "1                   0.412478                0.391811  LOC_main_workplace  \n",
       "2                   0.508377                0.427276  LOC_main_workplace  \n",
       "3                   0.377912                0.429580  LOC_main_workplace  \n",
       "4                   0.551463                0.463331  LOC_main_workplace  \n",
       "...                      ...                     ...                 ...  \n",
       "8511                0.211452                0.217197  LOC_main_workplace  \n",
       "8512                0.303912                0.313538  LOC_main_workplace  \n",
       "8513                0.222117                0.233041  LOC_main_workplace  \n",
       "8514                0.204197                0.204898  LOC_main_workplace  \n",
       "8515                0.288996                0.248900  LOC_main_workplace  \n",
       "\n",
       "[8120 rows x 27 columns]"
      ]
     },
     "execution_count": 671,
     "metadata": {},
     "output_type": "execute_result"
    }
   ],
   "source": [
    "total_files[12]"
   ]
  },
  {
   "cell_type": "code",
   "execution_count": 672,
   "metadata": {},
   "outputs": [],
   "source": [
    "df_with_nan = []\n",
    "df_without_nans = []\n",
    "for i, df in enumerate(total_files):\n",
    "    if df.isnull().values.any():\n",
    "        df_with_nan.append(i)\n",
    "    else:\n",
    "        df_without_nans.append(i)"
   ]
  },
  {
   "cell_type": "code",
   "execution_count": 673,
   "metadata": {
    "scrolled": true
   },
   "outputs": [
    {
     "data": {
      "text/plain": [
       "[48, 59]"
      ]
     },
     "execution_count": 673,
     "metadata": {},
     "output_type": "execute_result"
    }
   ],
   "source": [
    "df_with_nan"
   ]
  },
  {
   "cell_type": "code",
   "execution_count": 674,
   "metadata": {},
   "outputs": [],
   "source": [
    "total_files = [total_files[i] for i in df_without_nans]"
   ]
  },
  {
   "cell_type": "code",
   "execution_count": 675,
   "metadata": {},
   "outputs": [
    {
     "name": "stdout",
     "output_type": "stream",
     "text": [
      "False\n",
      "False\n",
      "False\n",
      "False\n",
      "False\n",
      "False\n",
      "False\n",
      "False\n",
      "False\n",
      "False\n",
      "False\n",
      "False\n",
      "False\n",
      "False\n",
      "False\n",
      "False\n",
      "False\n",
      "False\n",
      "False\n",
      "False\n",
      "False\n",
      "False\n",
      "False\n",
      "False\n",
      "False\n",
      "False\n",
      "False\n",
      "False\n",
      "False\n",
      "False\n",
      "False\n",
      "False\n",
      "False\n",
      "False\n",
      "False\n",
      "False\n",
      "False\n",
      "False\n",
      "False\n",
      "False\n",
      "False\n",
      "False\n",
      "False\n",
      "False\n",
      "False\n",
      "False\n",
      "False\n",
      "False\n",
      "False\n",
      "False\n",
      "False\n",
      "False\n",
      "False\n",
      "False\n",
      "False\n",
      "False\n",
      "False\n",
      "False\n"
     ]
    }
   ],
   "source": [
    "for i in range(len(total_files)):\n",
    "    print(total_files[i].isnull().values.any())"
   ]
  },
  {
   "cell_type": "code",
   "execution_count": 676,
   "metadata": {},
   "outputs": [],
   "source": [
    "final_files = pd.concat(total_files)"
   ]
  },
  {
   "cell_type": "code",
   "execution_count": 677,
   "metadata": {},
   "outputs": [
    {
     "data": {
      "text/plain": [
       "array(['IN_A_MEETING', 'LOC_main_workplace', 'SLEEPING', 'OR_indoors',\n",
       "       'LOC_home', 'ON_A_BUS', 'IN_CLASS', 'SHOPPING', 'EATING',\n",
       "       'COOKING', 'BICYCLING', 'OR_outside', 'LAB_WORK', 'COMPUTER_WORK',\n",
       "       'AT_SCHOOL', 'IN_A_CAR', 'SURFING_THE_INTERNET', 'LOC_beach',\n",
       "       'WATCHING_TV', 'DRIVE_-_I_M_A_PASSENGER', 'DRIVE_-_I_M_THE_DRIVER',\n",
       "       'DOING_LAUNDRY', 'WASHING_DISHES', 'CLEANING', 'FIX_restaurant',\n",
       "       'AT_A_PARTY', 'ELEVATOR', 'TOILET'], dtype=object)"
      ]
     },
     "execution_count": 677,
     "metadata": {},
     "output_type": "execute_result"
    }
   ],
   "source": [
    "final_files['label'].unique()"
   ]
  },
  {
   "cell_type": "code",
   "execution_count": 678,
   "metadata": {},
   "outputs": [
    {
     "data": {
      "text/plain": [
       "28"
      ]
     },
     "execution_count": 678,
     "metadata": {},
     "output_type": "execute_result"
    }
   ],
   "source": [
    "len(final_files['label'].unique())"
   ]
  },
  {
   "cell_type": "code",
   "execution_count": 679,
   "metadata": {},
   "outputs": [],
   "source": [
    "final_files['label'] = final_files['label'].replace(['IN_A_MEETING', 'LOC_main_workplace', 'SLEEPING', 'OR_indoors', 'LOC_home',\n",
    "                                             'IN_CLASS', 'EATING', 'COOKING', 'LAB_WORK', 'COMPUTER_WORK',\n",
    "                                             'AT_SCHOOL', 'SURFING_THE_INTERNET', 'WATCHING_TV', 'DOING_LAUNDRY', \n",
    "                                             'WASHING_DISHES', 'CLEANING', 'FIX_restaurant', 'AT_A_PARTY',\n",
    "                                             'ELEVATOR', 'TOILET'], \n",
    "                                            ['indoor', 'indoor', 'indoor', 'indoor', 'indoor', 'indoor', 'indoor', 'indoor',\n",
    "                                             'indoor', 'indoor', 'indoor', 'indoor', 'indoor',\n",
    "                                             'indoor', 'indoor', 'indoor', 'indoor', 'indoor', 'indoor', 'indoor'])\n",
    "\n",
    "\n",
    "final_files['label'] = final_files['label'].replace(['BICYCLING', 'ON_A_BUS', 'IN_A_CAR', 'DRIVE_-_I_M_A_PASSENGER', \n",
    "                                             'DRIVE_-_I_M_THE_DRIVER'], \n",
    "                                            ['vehicle', 'vehicle', 'vehicle', 'vehicle', 'vehicle'])\n",
    "\n",
    "final_files['label'] = final_files['label'].replace(['OR_outside', 'SHOPPING', 'LOC_beach'], \n",
    "                                            ['outdoor', 'outdoor', 'outdoor'])"
   ]
  },
  {
   "cell_type": "code",
   "execution_count": 680,
   "metadata": {},
   "outputs": [
    {
     "data": {
      "text/plain": [
       "array(['indoor', 'vehicle', 'outdoor'], dtype=object)"
      ]
     },
     "execution_count": 680,
     "metadata": {},
     "output_type": "execute_result"
    }
   ],
   "source": [
    "final_files['label'].unique()"
   ]
  },
  {
   "cell_type": "code",
   "execution_count": 681,
   "metadata": {},
   "outputs": [],
   "source": [
    "y_test = final_files.iloc[:,-1]"
   ]
  },
  {
   "cell_type": "code",
   "execution_count": 682,
   "metadata": {},
   "outputs": [
    {
     "data": {
      "text/plain": [
       "0       indoor\n",
       "1       indoor\n",
       "2       indoor\n",
       "3       indoor\n",
       "4       indoor\n",
       "         ...  \n",
       "2261    indoor\n",
       "2262    indoor\n",
       "2263    indoor\n",
       "2264    indoor\n",
       "2265    indoor\n",
       "Name: label, Length: 354549, dtype: object"
      ]
     },
     "execution_count": 682,
     "metadata": {},
     "output_type": "execute_result"
    }
   ],
   "source": [
    "y_test"
   ]
  },
  {
   "cell_type": "code",
   "execution_count": 683,
   "metadata": {},
   "outputs": [],
   "source": [
    "X_test = final_files.iloc[:, 0:26]"
   ]
  },
  {
   "cell_type": "code",
   "execution_count": 684,
   "metadata": {},
   "outputs": [
    {
     "data": {
      "text/html": [
       "<div>\n",
       "<style scoped>\n",
       "    .dataframe tbody tr th:only-of-type {\n",
       "        vertical-align: middle;\n",
       "    }\n",
       "\n",
       "    .dataframe tbody tr th {\n",
       "        vertical-align: top;\n",
       "    }\n",
       "\n",
       "    .dataframe thead th {\n",
       "        text-align: right;\n",
       "    }\n",
       "</style>\n",
       "<table border=\"1\" class=\"dataframe\">\n",
       "  <thead>\n",
       "    <tr style=\"text-align: right;\">\n",
       "      <th></th>\n",
       "      <th>audio_naive:mfcc0:mean</th>\n",
       "      <th>audio_naive:mfcc1:mean</th>\n",
       "      <th>audio_naive:mfcc2:mean</th>\n",
       "      <th>audio_naive:mfcc3:mean</th>\n",
       "      <th>audio_naive:mfcc4:mean</th>\n",
       "      <th>audio_naive:mfcc5:mean</th>\n",
       "      <th>audio_naive:mfcc6:mean</th>\n",
       "      <th>audio_naive:mfcc7:mean</th>\n",
       "      <th>audio_naive:mfcc8:mean</th>\n",
       "      <th>audio_naive:mfcc9:mean</th>\n",
       "      <th>...</th>\n",
       "      <th>audio_naive:mfcc3:std</th>\n",
       "      <th>audio_naive:mfcc4:std</th>\n",
       "      <th>audio_naive:mfcc5:std</th>\n",
       "      <th>audio_naive:mfcc6:std</th>\n",
       "      <th>audio_naive:mfcc7:std</th>\n",
       "      <th>audio_naive:mfcc8:std</th>\n",
       "      <th>audio_naive:mfcc9:std</th>\n",
       "      <th>audio_naive:mfcc10:std</th>\n",
       "      <th>audio_naive:mfcc11:std</th>\n",
       "      <th>audio_naive:mfcc12:std</th>\n",
       "    </tr>\n",
       "  </thead>\n",
       "  <tbody>\n",
       "    <tr>\n",
       "      <td>0</td>\n",
       "      <td>-4.219657</td>\n",
       "      <td>-0.012806</td>\n",
       "      <td>-1.298291</td>\n",
       "      <td>0.094373</td>\n",
       "      <td>-1.220977</td>\n",
       "      <td>-0.851300</td>\n",
       "      <td>-1.656516</td>\n",
       "      <td>-0.898563</td>\n",
       "      <td>-0.503573</td>\n",
       "      <td>-0.518072</td>\n",
       "      <td>...</td>\n",
       "      <td>0.670053</td>\n",
       "      <td>0.389200</td>\n",
       "      <td>0.535904</td>\n",
       "      <td>0.468701</td>\n",
       "      <td>0.358315</td>\n",
       "      <td>0.401412</td>\n",
       "      <td>0.408432</td>\n",
       "      <td>0.277176</td>\n",
       "      <td>0.416881</td>\n",
       "      <td>0.263832</td>\n",
       "    </tr>\n",
       "    <tr>\n",
       "      <td>1</td>\n",
       "      <td>-7.505606</td>\n",
       "      <td>1.294372</td>\n",
       "      <td>-0.745550</td>\n",
       "      <td>-0.052791</td>\n",
       "      <td>-1.220453</td>\n",
       "      <td>-0.822848</td>\n",
       "      <td>-1.559542</td>\n",
       "      <td>-0.835154</td>\n",
       "      <td>-0.665443</td>\n",
       "      <td>-0.580521</td>\n",
       "      <td>...</td>\n",
       "      <td>0.669467</td>\n",
       "      <td>0.499003</td>\n",
       "      <td>0.584068</td>\n",
       "      <td>0.525900</td>\n",
       "      <td>0.435339</td>\n",
       "      <td>0.459064</td>\n",
       "      <td>0.391962</td>\n",
       "      <td>0.341445</td>\n",
       "      <td>0.362252</td>\n",
       "      <td>0.298252</td>\n",
       "    </tr>\n",
       "    <tr>\n",
       "      <td>2</td>\n",
       "      <td>-7.966769</td>\n",
       "      <td>1.309082</td>\n",
       "      <td>-0.770455</td>\n",
       "      <td>0.080046</td>\n",
       "      <td>-1.238489</td>\n",
       "      <td>-0.922404</td>\n",
       "      <td>-1.695809</td>\n",
       "      <td>-0.864904</td>\n",
       "      <td>-0.670674</td>\n",
       "      <td>-0.580025</td>\n",
       "      <td>...</td>\n",
       "      <td>0.803958</td>\n",
       "      <td>0.546688</td>\n",
       "      <td>0.562475</td>\n",
       "      <td>0.559488</td>\n",
       "      <td>0.445827</td>\n",
       "      <td>0.472388</td>\n",
       "      <td>0.462703</td>\n",
       "      <td>0.359176</td>\n",
       "      <td>0.430171</td>\n",
       "      <td>0.330055</td>\n",
       "    </tr>\n",
       "    <tr>\n",
       "      <td>3</td>\n",
       "      <td>-5.367933</td>\n",
       "      <td>0.182373</td>\n",
       "      <td>-0.891874</td>\n",
       "      <td>0.112003</td>\n",
       "      <td>-1.437741</td>\n",
       "      <td>-0.770266</td>\n",
       "      <td>-1.646552</td>\n",
       "      <td>-0.922945</td>\n",
       "      <td>-0.614741</td>\n",
       "      <td>-0.531608</td>\n",
       "      <td>...</td>\n",
       "      <td>0.821571</td>\n",
       "      <td>0.519879</td>\n",
       "      <td>0.572094</td>\n",
       "      <td>0.591143</td>\n",
       "      <td>0.467151</td>\n",
       "      <td>0.453082</td>\n",
       "      <td>0.459266</td>\n",
       "      <td>0.325971</td>\n",
       "      <td>0.379887</td>\n",
       "      <td>0.389737</td>\n",
       "    </tr>\n",
       "    <tr>\n",
       "      <td>4</td>\n",
       "      <td>-13.415772</td>\n",
       "      <td>0.908387</td>\n",
       "      <td>-1.442258</td>\n",
       "      <td>-0.294636</td>\n",
       "      <td>-1.760813</td>\n",
       "      <td>-1.104186</td>\n",
       "      <td>-1.523959</td>\n",
       "      <td>-1.005763</td>\n",
       "      <td>-0.577766</td>\n",
       "      <td>-0.579184</td>\n",
       "      <td>...</td>\n",
       "      <td>0.902605</td>\n",
       "      <td>0.777665</td>\n",
       "      <td>0.678277</td>\n",
       "      <td>0.652441</td>\n",
       "      <td>0.492996</td>\n",
       "      <td>0.455644</td>\n",
       "      <td>0.466388</td>\n",
       "      <td>0.368922</td>\n",
       "      <td>0.393817</td>\n",
       "      <td>0.331128</td>\n",
       "    </tr>\n",
       "    <tr>\n",
       "      <td>...</td>\n",
       "      <td>...</td>\n",
       "      <td>...</td>\n",
       "      <td>...</td>\n",
       "      <td>...</td>\n",
       "      <td>...</td>\n",
       "      <td>...</td>\n",
       "      <td>...</td>\n",
       "      <td>...</td>\n",
       "      <td>...</td>\n",
       "      <td>...</td>\n",
       "      <td>...</td>\n",
       "      <td>...</td>\n",
       "      <td>...</td>\n",
       "      <td>...</td>\n",
       "      <td>...</td>\n",
       "      <td>...</td>\n",
       "      <td>...</td>\n",
       "      <td>...</td>\n",
       "      <td>...</td>\n",
       "      <td>...</td>\n",
       "      <td>...</td>\n",
       "    </tr>\n",
       "    <tr>\n",
       "      <td>2261</td>\n",
       "      <td>7.620324</td>\n",
       "      <td>-0.956735</td>\n",
       "      <td>0.587310</td>\n",
       "      <td>0.634542</td>\n",
       "      <td>-0.016997</td>\n",
       "      <td>-0.140553</td>\n",
       "      <td>0.307518</td>\n",
       "      <td>0.039101</td>\n",
       "      <td>0.055642</td>\n",
       "      <td>0.154290</td>\n",
       "      <td>...</td>\n",
       "      <td>0.242027</td>\n",
       "      <td>0.234193</td>\n",
       "      <td>0.195252</td>\n",
       "      <td>0.194742</td>\n",
       "      <td>0.118630</td>\n",
       "      <td>0.138211</td>\n",
       "      <td>0.123376</td>\n",
       "      <td>0.100841</td>\n",
       "      <td>0.104371</td>\n",
       "      <td>0.102416</td>\n",
       "    </tr>\n",
       "    <tr>\n",
       "      <td>2262</td>\n",
       "      <td>6.882607</td>\n",
       "      <td>-0.822229</td>\n",
       "      <td>0.811413</td>\n",
       "      <td>0.395041</td>\n",
       "      <td>0.245297</td>\n",
       "      <td>-0.084122</td>\n",
       "      <td>0.376161</td>\n",
       "      <td>0.189670</td>\n",
       "      <td>0.009715</td>\n",
       "      <td>0.076512</td>\n",
       "      <td>...</td>\n",
       "      <td>0.190360</td>\n",
       "      <td>0.185548</td>\n",
       "      <td>0.224232</td>\n",
       "      <td>0.140518</td>\n",
       "      <td>0.127884</td>\n",
       "      <td>0.143605</td>\n",
       "      <td>0.112262</td>\n",
       "      <td>0.107523</td>\n",
       "      <td>0.102927</td>\n",
       "      <td>0.091318</td>\n",
       "    </tr>\n",
       "    <tr>\n",
       "      <td>2263</td>\n",
       "      <td>3.896036</td>\n",
       "      <td>-0.362770</td>\n",
       "      <td>1.202823</td>\n",
       "      <td>0.474777</td>\n",
       "      <td>0.379865</td>\n",
       "      <td>-0.005502</td>\n",
       "      <td>0.440664</td>\n",
       "      <td>0.013803</td>\n",
       "      <td>0.056842</td>\n",
       "      <td>-0.003680</td>\n",
       "      <td>...</td>\n",
       "      <td>0.272054</td>\n",
       "      <td>0.256302</td>\n",
       "      <td>0.217812</td>\n",
       "      <td>0.194657</td>\n",
       "      <td>0.155643</td>\n",
       "      <td>0.153459</td>\n",
       "      <td>0.116204</td>\n",
       "      <td>0.116547</td>\n",
       "      <td>0.098003</td>\n",
       "      <td>0.098819</td>\n",
       "    </tr>\n",
       "    <tr>\n",
       "      <td>2264</td>\n",
       "      <td>4.151635</td>\n",
       "      <td>0.821539</td>\n",
       "      <td>-0.041935</td>\n",
       "      <td>0.180841</td>\n",
       "      <td>0.341755</td>\n",
       "      <td>0.054328</td>\n",
       "      <td>0.284079</td>\n",
       "      <td>-0.090710</td>\n",
       "      <td>0.183090</td>\n",
       "      <td>-0.018988</td>\n",
       "      <td>...</td>\n",
       "      <td>0.248828</td>\n",
       "      <td>0.208725</td>\n",
       "      <td>0.177066</td>\n",
       "      <td>0.169816</td>\n",
       "      <td>0.139462</td>\n",
       "      <td>0.189611</td>\n",
       "      <td>0.101193</td>\n",
       "      <td>0.104274</td>\n",
       "      <td>0.112393</td>\n",
       "      <td>0.092398</td>\n",
       "    </tr>\n",
       "    <tr>\n",
       "      <td>2265</td>\n",
       "      <td>3.969682</td>\n",
       "      <td>0.456133</td>\n",
       "      <td>0.948035</td>\n",
       "      <td>0.187545</td>\n",
       "      <td>0.471888</td>\n",
       "      <td>0.024575</td>\n",
       "      <td>0.300289</td>\n",
       "      <td>-0.077651</td>\n",
       "      <td>0.170144</td>\n",
       "      <td>-0.049564</td>\n",
       "      <td>...</td>\n",
       "      <td>0.229043</td>\n",
       "      <td>0.237627</td>\n",
       "      <td>0.221393</td>\n",
       "      <td>0.215850</td>\n",
       "      <td>0.132264</td>\n",
       "      <td>0.124249</td>\n",
       "      <td>0.118228</td>\n",
       "      <td>0.107634</td>\n",
       "      <td>0.116014</td>\n",
       "      <td>0.106581</td>\n",
       "    </tr>\n",
       "  </tbody>\n",
       "</table>\n",
       "<p>354549 rows × 26 columns</p>\n",
       "</div>"
      ],
      "text/plain": [
       "      audio_naive:mfcc0:mean  audio_naive:mfcc1:mean  audio_naive:mfcc2:mean  \\\n",
       "0                  -4.219657               -0.012806               -1.298291   \n",
       "1                  -7.505606                1.294372               -0.745550   \n",
       "2                  -7.966769                1.309082               -0.770455   \n",
       "3                  -5.367933                0.182373               -0.891874   \n",
       "4                 -13.415772                0.908387               -1.442258   \n",
       "...                      ...                     ...                     ...   \n",
       "2261                7.620324               -0.956735                0.587310   \n",
       "2262                6.882607               -0.822229                0.811413   \n",
       "2263                3.896036               -0.362770                1.202823   \n",
       "2264                4.151635                0.821539               -0.041935   \n",
       "2265                3.969682                0.456133                0.948035   \n",
       "\n",
       "      audio_naive:mfcc3:mean  audio_naive:mfcc4:mean  audio_naive:mfcc5:mean  \\\n",
       "0                   0.094373               -1.220977               -0.851300   \n",
       "1                  -0.052791               -1.220453               -0.822848   \n",
       "2                   0.080046               -1.238489               -0.922404   \n",
       "3                   0.112003               -1.437741               -0.770266   \n",
       "4                  -0.294636               -1.760813               -1.104186   \n",
       "...                      ...                     ...                     ...   \n",
       "2261                0.634542               -0.016997               -0.140553   \n",
       "2262                0.395041                0.245297               -0.084122   \n",
       "2263                0.474777                0.379865               -0.005502   \n",
       "2264                0.180841                0.341755                0.054328   \n",
       "2265                0.187545                0.471888                0.024575   \n",
       "\n",
       "      audio_naive:mfcc6:mean  audio_naive:mfcc7:mean  audio_naive:mfcc8:mean  \\\n",
       "0                  -1.656516               -0.898563               -0.503573   \n",
       "1                  -1.559542               -0.835154               -0.665443   \n",
       "2                  -1.695809               -0.864904               -0.670674   \n",
       "3                  -1.646552               -0.922945               -0.614741   \n",
       "4                  -1.523959               -1.005763               -0.577766   \n",
       "...                      ...                     ...                     ...   \n",
       "2261                0.307518                0.039101                0.055642   \n",
       "2262                0.376161                0.189670                0.009715   \n",
       "2263                0.440664                0.013803                0.056842   \n",
       "2264                0.284079               -0.090710                0.183090   \n",
       "2265                0.300289               -0.077651                0.170144   \n",
       "\n",
       "      audio_naive:mfcc9:mean  ...  audio_naive:mfcc3:std  \\\n",
       "0                  -0.518072  ...               0.670053   \n",
       "1                  -0.580521  ...               0.669467   \n",
       "2                  -0.580025  ...               0.803958   \n",
       "3                  -0.531608  ...               0.821571   \n",
       "4                  -0.579184  ...               0.902605   \n",
       "...                      ...  ...                    ...   \n",
       "2261                0.154290  ...               0.242027   \n",
       "2262                0.076512  ...               0.190360   \n",
       "2263               -0.003680  ...               0.272054   \n",
       "2264               -0.018988  ...               0.248828   \n",
       "2265               -0.049564  ...               0.229043   \n",
       "\n",
       "      audio_naive:mfcc4:std  audio_naive:mfcc5:std  audio_naive:mfcc6:std  \\\n",
       "0                  0.389200               0.535904               0.468701   \n",
       "1                  0.499003               0.584068               0.525900   \n",
       "2                  0.546688               0.562475               0.559488   \n",
       "3                  0.519879               0.572094               0.591143   \n",
       "4                  0.777665               0.678277               0.652441   \n",
       "...                     ...                    ...                    ...   \n",
       "2261               0.234193               0.195252               0.194742   \n",
       "2262               0.185548               0.224232               0.140518   \n",
       "2263               0.256302               0.217812               0.194657   \n",
       "2264               0.208725               0.177066               0.169816   \n",
       "2265               0.237627               0.221393               0.215850   \n",
       "\n",
       "      audio_naive:mfcc7:std  audio_naive:mfcc8:std  audio_naive:mfcc9:std  \\\n",
       "0                  0.358315               0.401412               0.408432   \n",
       "1                  0.435339               0.459064               0.391962   \n",
       "2                  0.445827               0.472388               0.462703   \n",
       "3                  0.467151               0.453082               0.459266   \n",
       "4                  0.492996               0.455644               0.466388   \n",
       "...                     ...                    ...                    ...   \n",
       "2261               0.118630               0.138211               0.123376   \n",
       "2262               0.127884               0.143605               0.112262   \n",
       "2263               0.155643               0.153459               0.116204   \n",
       "2264               0.139462               0.189611               0.101193   \n",
       "2265               0.132264               0.124249               0.118228   \n",
       "\n",
       "      audio_naive:mfcc10:std  audio_naive:mfcc11:std  audio_naive:mfcc12:std  \n",
       "0                   0.277176                0.416881                0.263832  \n",
       "1                   0.341445                0.362252                0.298252  \n",
       "2                   0.359176                0.430171                0.330055  \n",
       "3                   0.325971                0.379887                0.389737  \n",
       "4                   0.368922                0.393817                0.331128  \n",
       "...                      ...                     ...                     ...  \n",
       "2261                0.100841                0.104371                0.102416  \n",
       "2262                0.107523                0.102927                0.091318  \n",
       "2263                0.116547                0.098003                0.098819  \n",
       "2264                0.104274                0.112393                0.092398  \n",
       "2265                0.107634                0.116014                0.106581  \n",
       "\n",
       "[354549 rows x 26 columns]"
      ]
     },
     "execution_count": 684,
     "metadata": {},
     "output_type": "execute_result"
    }
   ],
   "source": [
    "X_test"
   ]
  },
  {
   "cell_type": "code",
   "execution_count": 685,
   "metadata": {},
   "outputs": [],
   "source": [
    "X_test_scaled = StandardScaler().fit_transform(X_test.values)"
   ]
  },
  {
   "cell_type": "code",
   "execution_count": 686,
   "metadata": {},
   "outputs": [
    {
     "data": {
      "text/plain": [
       "array([[-0.3859221 ,  0.09782236, -0.39261037, ...,  0.58536333,\n",
       "         1.96104625,  0.65312279],\n",
       "       [-0.80531602,  0.84664867, -0.08310378, ...,  1.1528378 ,\n",
       "         1.46144861,  0.98175022],\n",
       "       [-0.86417541,  0.8550754 , -0.0970493 , ...,  1.3093968 ,\n",
       "         2.08258706,  1.28539165],\n",
       "       ...,\n",
       "       [ 0.64990417, -0.10265704,  1.00788509, ..., -0.83293877,\n",
       "        -0.95518318, -0.92235071],\n",
       "       [ 0.68252692,  0.57578289,  0.3108845 , ..., -0.94130539,\n",
       "        -0.82358256, -0.98365567],\n",
       "       [ 0.6593038 ,  0.36645743,  0.86521689, ..., -0.91163767,\n",
       "        -0.79046749, -0.84824246]])"
      ]
     },
     "execution_count": 686,
     "metadata": {},
     "output_type": "execute_result"
    }
   ],
   "source": [
    "X_test_scaled"
   ]
  },
  {
   "cell_type": "code",
   "execution_count": 687,
   "metadata": {},
   "outputs": [
    {
     "data": {
      "text/plain": [
       "(354549, 26)"
      ]
     },
     "execution_count": 687,
     "metadata": {},
     "output_type": "execute_result"
    }
   ],
   "source": [
    "X_test_scaled.shape"
   ]
  },
  {
   "cell_type": "code",
   "execution_count": 688,
   "metadata": {},
   "outputs": [],
   "source": [
    "test_label_encoder = LabelEncoder().fit(y_test)\n",
    "test_labels = train_label_encoder.transform(y_test)\n",
    "classes_test = list(test_label_encoder.classes_)"
   ]
  },
  {
   "cell_type": "code",
   "execution_count": 689,
   "metadata": {},
   "outputs": [
    {
     "data": {
      "text/plain": [
       "['indoor', 'outdoor', 'vehicle']"
      ]
     },
     "execution_count": 689,
     "metadata": {},
     "output_type": "execute_result"
    }
   ],
   "source": [
    "classes_test"
   ]
  },
  {
   "cell_type": "code",
   "execution_count": 690,
   "metadata": {},
   "outputs": [],
   "source": [
    "y_test_new = np_utils.to_categorical(test_labels)"
   ]
  },
  {
   "cell_type": "code",
   "execution_count": 691,
   "metadata": {},
   "outputs": [],
   "source": [
    "X_test_new = X_test_scaled.reshape(len(X_test_scaled),26,1)\n",
    "Y_prediction = model.predict(X_test_new)\n",
    "Y_pred_classes = np.argmax(Y_prediction, axis = 1)\n",
    "# Convert validation observations to one hot vectors\n",
    "Y_true = np.argmax(y_test_new, axis = 1) \n",
    "# compute the confusion matrix\n",
    "target_names = ['indoor', 'outdoor', 'vehicle']\n",
    "confusion_mtx = confusion_matrix(Y_true, Y_pred_classes)"
   ]
  },
  {
   "cell_type": "code",
   "execution_count": 692,
   "metadata": {},
   "outputs": [
    {
     "data": {
      "image/png": "[encoded data removed]",
      "text/plain": [
       "<Figure size 432x288 with 1 Axes>"
      ]
     },
     "metadata": {
      "needs_background": "light"
     },
     "output_type": "display_data"
    }
   ],
   "source": [
    "sns.heatmap(confusion_mtx, annot=True, fmt=\"d\", xticklabels=target_names, yticklabels=target_names, cbar=False)\n",
    "plt.autoscale()"
   ]
  },
  {
   "cell_type": "code",
   "execution_count": 693,
   "metadata": {},
   "outputs": [
    {
     "name": "stdout",
     "output_type": "stream",
     "text": [
      "F1 Score:  0.21423834878577197\n",
      "Precision Score:  0.34173573982119776\n",
      "Recall Score:  0.352412151895727\n",
      "              precision    recall  f1-score   support\n",
      "\n",
      "      indoor     0.8928    0.2775    0.4235    312402\n",
      "     outdoor     0.0320    0.3840    0.0591     11334\n",
      "     vehicle     0.1004    0.3957    0.1602     30813\n",
      "\n",
      "    accuracy                         0.2912    354549\n",
      "   macro avg     0.3417    0.3524    0.2142    354549\n",
      "weighted avg     0.7964    0.2912    0.3889    354549\n",
      "\n",
      "Accuracy:  0.29122067753681435\n"
     ]
    }
   ],
   "source": [
    "print(\"F1 Score: \", f1_score(Y_true, Y_pred_classes, average=\"macro\"))\n",
    "print(\"Precision Score: \", precision_score(Y_true, Y_pred_classes, average=\"macro\"))\n",
    "print(\"Recall Score: \", recall_score(Y_true, Y_pred_classes, average=\"macro\"))\n",
    "print(classification_report(Y_true, Y_pred_classes, target_names=target_names, digits=4))\n",
    "print(\"Accuracy: \", accuracy_score(Y_true, Y_pred_classes))"
   ]
  },
  {
   "cell_type": "code",
   "execution_count": 694,
   "metadata": {},
   "outputs": [
    {
     "name": "stdout",
     "output_type": "stream",
     "text": [
      "Normalized confusion matrix\n",
      "[[0.27754944 0.38441175 0.33803881]\n",
      " [0.29610023 0.38397741 0.31992236]\n",
      " [0.22899426 0.37529614 0.3957096 ]]\n"
     ]
    },
    {
     "data": {
      "image/png": "[encoded data removed]",
      "text/plain": [
       "<Figure size 432x288 with 2 Axes>"
      ]
     },
     "metadata": {
      "needs_background": "light"
     },
     "output_type": "display_data"
    }
   ],
   "source": [
    "# Plot normalized confusion matrix\n",
    "plot_confusion_matrix(Y_true, Y_pred_classes, classes=target_names, normalize=True,\n",
    "                      title='Normalized confusion matrix')\n",
    "plt.autoscale()"
   ]
  },
  {
   "cell_type": "code",
   "execution_count": 695,
   "metadata": {},
   "outputs": [],
   "source": [
    "x_train, x_test, y_train, y_test = train_test_split(X_test_scaled, y_test_new, test_size=0.1, shuffle=False)"
   ]
  },
  {
   "cell_type": "code",
   "execution_count": 696,
   "metadata": {},
   "outputs": [],
   "source": [
    "x_train = x_train.reshape(x_train.shape[0], NB_ROWS, NB_COLS)\n",
    "x_test = x_test.reshape(x_test.shape[0], NB_ROWS, NB_COLS)"
   ]
  },
  {
   "cell_type": "code",
   "execution_count": 697,
   "metadata": {},
   "outputs": [
    {
     "name": "stdout",
     "output_type": "stream",
     "text": [
      "Test loss 1: 30.195457392956346\n",
      "Test accuracy 1: 0.2523198425769806\n",
      "Test loss 2: 0.4393749811907881\n",
      "Test accuracy 2: 0.8564659357070923\n"
     ]
    }
   ],
   "source": [
    "model_new = load_model(\"DCASE_2017_mfccs_1D.h5\")\n",
    "score = model_new.evaluate(x_test, y_test, verbose=0)\n",
    "print('Test loss 1:', score[0])\n",
    "print('Test accuracy 1:', score[1])\n",
    "model_new.fit(x_train, y_train,batch_size=32,epochs=1,verbose=0)\n",
    "score = model_new.evaluate(x_test, y_test, verbose=0)\n",
    "print('Test loss 2:', score[0])\n",
    "print('Test accuracy 2:', score[1])"
   ]
  },
  {
   "cell_type": "code",
   "execution_count": 557,
   "metadata": {},
   "outputs": [],
   "source": [
    "Y_prediction = model_new.predict(x_test)\n",
    "Y_pred_classes = np.argmax(Y_prediction, axis = 1)\n",
    "# Convert validation observations to one hot vectors\n",
    "Y_true = np.argmax(y_test, axis = 1) \n",
    "# compute the confusion matrix\n",
    "target_names = ['indoor', 'outdoor', 'vehicle']\n",
    "confusion_mtx = confusion_matrix(Y_true, Y_pred_classes)"
   ]
  },
  {
   "cell_type": "code",
   "execution_count": 558,
   "metadata": {},
   "outputs": [
    {
     "data": {
      "image/png": "[encoded data removed]",
      "text/plain": [
       "<Figure size 432x288 with 1 Axes>"
      ]
     },
     "metadata": {
      "needs_background": "light"
     },
     "output_type": "display_data"
    }
   ],
   "source": [
    "sns.heatmap(confusion_mtx, annot=True, fmt=\"d\", xticklabels=target_names, yticklabels=target_names, cbar=False)\n",
    "plt.autoscale()"
   ]
  },
  {
   "cell_type": "code",
   "execution_count": 559,
   "metadata": {},
   "outputs": [
    {
     "name": "stderr",
     "output_type": "stream",
     "text": [
      "c:\\anaconda3\\envs\\audio\\lib\\site-packages\\sklearn\\metrics\\classification.py:1437: UndefinedMetricWarning: F-score is ill-defined and being set to 0.0 in labels with no predicted samples.\n",
      "  'precision', 'predicted', average, warn_for)\n"
     ]
    },
    {
     "name": "stdout",
     "output_type": "stream",
     "text": [
      "F1 Score:  0.3307153805110103\n"
     ]
    },
    {
     "name": "stderr",
     "output_type": "stream",
     "text": [
      "c:\\anaconda3\\envs\\audio\\lib\\site-packages\\sklearn\\metrics\\classification.py:1437: UndefinedMetricWarning: Precision is ill-defined and being set to 0.0 in labels with no predicted samples.\n",
      "  'precision', 'predicted', average, warn_for)\n"
     ]
    },
    {
     "name": "stdout",
     "output_type": "stream",
     "text": [
      "Precision Score:  0.5107053800508897\n",
      "Recall Score:  0.34502260799926293\n"
     ]
    },
    {
     "name": "stderr",
     "output_type": "stream",
     "text": [
      "c:\\anaconda3\\envs\\audio\\lib\\site-packages\\sklearn\\metrics\\classification.py:1437: UndefinedMetricWarning: Precision and F-score are ill-defined and being set to 0.0 in labels with no predicted samples.\n",
      "  'precision', 'predicted', average, warn_for)\n"
     ]
    },
    {
     "name": "stdout",
     "output_type": "stream",
     "text": [
      "              precision    recall  f1-score   support\n",
      "\n",
      "      indoor       0.86      1.00      0.92     30205\n",
      "     outdoor       0.00      0.00      0.00       890\n",
      "     vehicle       0.68      0.04      0.07      4360\n",
      "\n",
      "    accuracy                           0.85     35455\n",
      "   macro avg       0.51      0.35      0.33     35455\n",
      "weighted avg       0.81      0.85      0.79     35455\n",
      "\n",
      "Accuracy:  0.854548018615146\n"
     ]
    }
   ],
   "source": [
    "print(\"F1 Score: \", f1_score(Y_true, Y_pred_classes, average=\"macro\"))\n",
    "print(\"Precision Score: \", precision_score(Y_true, Y_pred_classes, average=\"macro\"))\n",
    "print(\"Recall Score: \", recall_score(Y_true, Y_pred_classes, average=\"macro\"))\n",
    "print(classification_report(Y_true, Y_pred_classes, target_names=target_names))\n",
    "print(\"Accuracy: \", accuracy_score(Y_true, Y_pred_classes))"
   ]
  },
  {
   "cell_type": "code",
   "execution_count": 560,
   "metadata": {},
   "outputs": [
    {
     "name": "stdout",
     "output_type": "stream",
     "text": [
      "Normalized confusion matrix\n",
      "[[0.9976825  0.         0.0023175 ]\n",
      " [0.99101124 0.         0.00898876]\n",
      " [0.96261468 0.         0.03738532]]\n"
     ]
    },
    {
     "data": {
      "image/png": "[encoded data removed]",
      "text/plain": [
       "<Figure size 432x288 with 2 Axes>"
      ]
     },
     "metadata": {
      "needs_background": "light"
     },
     "output_type": "display_data"
    }
   ],
   "source": [
    "# Plot normalized confusion matrix\n",
    "plot_confusion_matrix(Y_true, Y_pred_classes, classes=target_names, normalize=True,\n",
    "                      title='Normalized confusion matrix')\n",
    "plt.autoscale()"
   ]
  },
  {
   "cell_type": "code",
   "execution_count": 464,
   "metadata": {
    "scrolled": true
   },
   "outputs": [],
   "source": [
    "from sklearn.ensemble import RandomForestClassifier\n",
    "from sklearn.svm import SVC\n",
    "clf_RF = RandomForestClassifier()"
   ]
  },
  {
   "cell_type": "code",
   "execution_count": 417,
   "metadata": {},
   "outputs": [
    {
     "data": {
      "text/plain": [
       "319094"
      ]
     },
     "execution_count": 417,
     "metadata": {},
     "output_type": "execute_result"
    }
   ],
   "source": [
    "len(x_train)"
   ]
  },
  {
   "cell_type": "code",
   "execution_count": 418,
   "metadata": {},
   "outputs": [
    {
     "name": "stderr",
     "output_type": "stream",
     "text": [
      "c:\\anaconda3\\envs\\audio\\lib\\site-packages\\sklearn\\ensemble\\forest.py:245: FutureWarning: The default value of n_estimators will change from 10 in version 0.20 to 100 in 0.22.\n",
      "  \"10 in version 0.20 to 100 in 0.22.\", FutureWarning)\n"
     ]
    },
    {
     "data": {
      "text/plain": [
       "RandomForestClassifier(bootstrap=True, class_weight=None, criterion='gini',\n",
       "                       max_depth=None, max_features='auto', max_leaf_nodes=None,\n",
       "                       min_impurity_decrease=0.0, min_impurity_split=None,\n",
       "                       min_samples_leaf=1, min_samples_split=2,\n",
       "                       min_weight_fraction_leaf=0.0, n_estimators=10,\n",
       "                       n_jobs=None, oob_score=False, random_state=None,\n",
       "                       verbose=0, warm_start=False)"
      ]
     },
     "execution_count": 418,
     "metadata": {},
     "output_type": "execute_result"
    }
   ],
   "source": [
    "clf_RF.fit(x_train, y_train) "
   ]
  },
  {
   "cell_type": "code",
   "execution_count": 419,
   "metadata": {},
   "outputs": [],
   "source": [
    "y_pred = clf_RF.predict(x_test)"
   ]
  },
  {
   "cell_type": "code",
   "execution_count": 420,
   "metadata": {},
   "outputs": [
    {
     "data": {
      "text/plain": [
       "0.8770272175997743"
      ]
     },
     "execution_count": 420,
     "metadata": {},
     "output_type": "execute_result"
    }
   ],
   "source": [
    "clf_RF.score(x_test, y_test)"
   ]
  },
  {
   "cell_type": "code",
   "execution_count": 421,
   "metadata": {},
   "outputs": [],
   "source": [
    "Y_pred_classes = np.argmax(y_pred, axis = 1)\n",
    "# Convert validation observations to one hot vectors\n",
    "Y_true = np.argmax(y_test, axis = 1) \n",
    "# compute the confusion matrix\n",
    "target_names = ['indoor', 'outdoor', 'vehicle']\n",
    "confusion_mtx = confusion_matrix(Y_true, Y_pred_classes)"
   ]
  },
  {
   "cell_type": "code",
   "execution_count": 422,
   "metadata": {},
   "outputs": [
    {
     "name": "stdout",
     "output_type": "stream",
     "text": [
      "              precision    recall  f1-score   support\n",
      "\n",
      "      indoor       0.90      0.99      0.95     31140\n",
      "     outdoor       0.87      0.13      0.22      1190\n",
      "     vehicle       0.79      0.24      0.37      3125\n",
      "\n",
      "    accuracy                           0.90     35455\n",
      "   macro avg       0.85      0.45      0.51     35455\n",
      "weighted avg       0.89      0.90      0.87     35455\n",
      "\n"
     ]
    }
   ],
   "source": [
    "print(classification_report(Y_true, Y_pred_classes, target_names=target_names))"
   ]
  },
  {
   "cell_type": "code",
   "execution_count": 423,
   "metadata": {},
   "outputs": [
    {
     "data": {
      "image/png": "[encoded data removed]",
      "text/plain": [
       "<Figure size 432x288 with 1 Axes>"
      ]
     },
     "metadata": {
      "needs_background": "light"
     },
     "output_type": "display_data"
    }
   ],
   "source": [
    "sns.heatmap(confusion_mtx, annot=True, fmt=\"d\", xticklabels=target_names, yticklabels=target_names, cbar=False)\n",
    "plt.autoscale()"
   ]
  },
  {
   "cell_type": "code",
   "execution_count": 424,
   "metadata": {},
   "outputs": [
    {
     "name": "stdout",
     "output_type": "stream",
     "text": [
      "Normalized confusion matrix\n",
      "[[9.93737958e-01 7.06486834e-04 5.55555556e-03]\n",
      " [8.52941176e-01 1.25210084e-01 2.18487395e-02]\n",
      " [7.57440000e-01 3.20000000e-04 2.42240000e-01]]\n"
     ]
    },
    {
     "data": {
      "image/png": "[encoded data removed]",
      "text/plain": [
       "<Figure size 432x288 with 2 Axes>"
      ]
     },
     "metadata": {
      "needs_background": "light"
     },
     "output_type": "display_data"
    }
   ],
   "source": [
    "# Plot normalized confusion matrix\n",
    "plot_confusion_matrix(Y_true, Y_pred_classes, classes=target_names, normalize=True,\n",
    "                      title='Normalized confusion matrix')\n",
    "plt.autoscale()"
   ]
  },
  {
   "cell_type": "code",
   "execution_count": 436,
   "metadata": {},
   "outputs": [],
   "source": [
    "from sklearn.ensemble import VotingClassifier\n",
    "from sklearn.ensemble import GradientBoostingClassifier"
   ]
  },
  {
   "cell_type": "code",
   "execution_count": 437,
   "metadata": {},
   "outputs": [],
   "source": [
    "rc_rf = GradientBoostingClassifier()"
   ]
  },
  {
   "cell_type": "code",
   "execution_count": 438,
   "metadata": {},
   "outputs": [],
   "source": [
    "eclf = VotingClassifier(estimators=[('1D_CNN', rc_rf), ('rf', clf_RF)], voting='hard')"
   ]
  },
  {
   "cell_type": "code",
   "execution_count": 439,
   "metadata": {},
   "outputs": [
    {
     "data": {
      "text/plain": [
       "VotingClassifier(estimators=[('1D_CNN',\n",
       "                              GradientBoostingClassifier(criterion='friedman_mse',\n",
       "                                                         init=None,\n",
       "                                                         learning_rate=0.1,\n",
       "                                                         loss='deviance',\n",
       "                                                         max_depth=3,\n",
       "                                                         max_features=None,\n",
       "                                                         max_leaf_nodes=None,\n",
       "                                                         min_impurity_decrease=0.0,\n",
       "                                                         min_impurity_split=None,\n",
       "                                                         min_samples_leaf=1,\n",
       "                                                         min_samples_split=2,\n",
       "                                                         min_weight_fraction_leaf=0.0,\n",
       "                                                         n_estimators=100,\n",
       "                                                         n_iter_no_change=None,\n",
       "                                                         presort=...\n",
       "                                                     class_weight=None,\n",
       "                                                     criterion='gini',\n",
       "                                                     max_depth=142,\n",
       "                                                     max_features='auto',\n",
       "                                                     max_leaf_nodes=None,\n",
       "                                                     min_impurity_decrease=0.0,\n",
       "                                                     min_impurity_split=None,\n",
       "                                                     min_samples_leaf=2,\n",
       "                                                     min_samples_split=2,\n",
       "                                                     min_weight_fraction_leaf=0.0,\n",
       "                                                     n_estimators=60,\n",
       "                                                     n_jobs=None,\n",
       "                                                     oob_score=False,\n",
       "                                                     random_state=None,\n",
       "                                                     verbose=0,\n",
       "                                                     warm_start=False))],\n",
       "                 flatten_transform=True, n_jobs=None, voting='hard',\n",
       "                 weights=None)"
      ]
     },
     "execution_count": 439,
     "metadata": {},
     "output_type": "execute_result"
    }
   ],
   "source": [
    "eclf"
   ]
  },
  {
   "cell_type": "code",
   "execution_count": 450,
   "metadata": {},
   "outputs": [],
   "source": [
    "y_test1 = np.argmax(y_test, axis=1)"
   ]
  },
  {
   "cell_type": "code",
   "execution_count": 453,
   "metadata": {},
   "outputs": [
    {
     "data": {
      "text/plain": [
       "array([0, 1, 2], dtype=int64)"
      ]
     },
     "execution_count": 453,
     "metadata": {},
     "output_type": "execute_result"
    }
   ],
   "source": [
    "np.unique(y_test1)"
   ]
  },
  {
   "cell_type": "code",
   "execution_count": 443,
   "metadata": {},
   "outputs": [
    {
     "data": {
      "text/plain": [
       "array([1, 1, 0, ..., 0, 0, 1], dtype=int64)"
      ]
     },
     "execution_count": 443,
     "metadata": {},
     "output_type": "execute_result"
    }
   ],
   "source": [
    ".fit(x_train, y_train) "
   ]
  },
  {
   "cell_type": "code",
   "execution_count": null,
   "metadata": {},
   "outputs": [],
   "source": []
  },
  {
   "cell_type": "code",
   "execution_count": null,
   "metadata": {},
   "outputs": [],
   "source": []
  },
  {
   "cell_type": "code",
   "execution_count": null,
   "metadata": {},
   "outputs": [],
   "source": []
  },
  {
   "cell_type": "code",
   "execution_count": null,
   "metadata": {},
   "outputs": [],
   "source": []
  },
  {
   "cell_type": "code",
   "execution_count": null,
   "metadata": {},
   "outputs": [],
   "source": [
    "def read_raw_user_data(uuid, timestamps):\n",
    "    postfix = \".sound.mfcc\"\n",
    "    user_data_dir = uuid\n",
    "    total_files = []\n",
    "    for timestamp in timestamps:\n",
    "        file_name = uuid + \"\\\\\" + (\"%s\" % timestamp) + postfix\n",
    "        raw_file = np.fromfile(file_name)\n",
    "        total_files.append(raw_file)\n",
    "    return total_files"
   ]
  },
  {
   "cell_type": "code",
   "execution_count": null,
   "metadata": {},
   "outputs": [],
   "source": [
    "audio_features = r\"D:\\Extrasensory_Journal\\audio_naive\"\n",
    "uuid = audio_features + '\\\\' + '%s' % uuid_list[0]\n",
    "timestamps = df_final['timestamp']\n",
    "final_files = read_raw_user_data(uuid, timestamps)"
   ]
  },
  {
   "cell_type": "code",
   "execution_count": null,
   "metadata": {},
   "outputs": [],
   "source": [
    "fold = 0\n",
    "\n",
    "print(\"Starting fold: \", fold)\n",
    "train_df_fold_iphone = pd.read_csv(\"es_cv_5_folds/fold_\" + str(fold) + \"_train_iphone_uuids.txt\", names=['UUID'])\n",
    "train_df_fold_android = pd.read_csv(\"es_cv_5_folds/fold_\" + str(fold) + \"_train_android_uuids.txt\", names=['UUID'])\n",
    "train_df_fold = pd.concat([train_df_fold_iphone, train_df_fold_android])\n",
    "train_uuids = train_df_fold['UUID'].values.tolist()\n",
    "\n",
    "test_df_fold_iphone = pd.read_csv(\"es_cv_5_folds/fold_\" + str(fold) + \"_test_iphone_uuids.txt\", names=['UUID'])\n",
    "test_df_fold_android = pd.read_csv(\"es_cv_5_folds/fold_\" + str(fold) + \"_test_android_uuids.txt\", names=['UUID'])\n",
    "test_df_fold = pd.concat([test_df_fold_iphone, test_df_fold_android])\n",
    "test_uuids = test_df_fold['UUID'].values.tolist()"
   ]
  },
  {
   "cell_type": "code",
   "execution_count": null,
   "metadata": {},
   "outputs": [],
   "source": [
    "test_uuids"
   ]
  },
  {
   "cell_type": "code",
   "execution_count": null,
   "metadata": {},
   "outputs": [],
   "source": [
    "len(final_files)"
   ]
  },
  {
   "cell_type": "code",
   "execution_count": null,
   "metadata": {},
   "outputs": [],
   "source": [
    "test_file = np.fromfile(\"D:\\\\Extrasensory_Journal\\\\audio_naive\\\\00EABED2-271D-49D8-B599-1D4A09240601\\\\1444079161.sound.mfcc\")"
   ]
  },
  {
   "cell_type": "code",
   "execution_count": null,
   "metadata": {},
   "outputs": [],
   "source": [
    "test_file.shape"
   ]
  },
  {
   "cell_type": "code",
   "execution_count": null,
   "metadata": {},
   "outputs": [],
   "source": [
    "431*13"
   ]
  },
  {
   "cell_type": "code",
   "execution_count": null,
   "metadata": {},
   "outputs": [],
   "source": [
    "len(final_files[124])"
   ]
  },
  {
   "cell_type": "code",
   "execution_count": null,
   "metadata": {},
   "outputs": [],
   "source": []
  }
 ],
 "metadata": {
  "kernelspec": {
   "display_name": "Python 3",
   "language": "python",
   "name": "python3"
  },
  "language_info": {
   "codemirror_mode": {
    "name": "ipython",
    "version": 3
   },
   "file_extension": ".py",
   "mimetype": "text/x-python",
   "name": "python",
   "nbconvert_exporter": "python",
   "pygments_lexer": "ipython3",
   "version": "3.6.9"
  }
 },
 "nbformat": 4,
 "nbformat_minor": 2
}
